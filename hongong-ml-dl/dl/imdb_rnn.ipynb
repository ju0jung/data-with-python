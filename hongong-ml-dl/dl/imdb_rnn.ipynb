{
 "cells": [
  {
   "cell_type": "code",
   "execution_count": null,
   "id": "initial_id",
   "metadata": {
    "collapsed": true
   },
   "outputs": [],
   "source": [
    "from tensorflow.keras.datasets import imdb\n",
    "(train_input,train_target), (test_input,test_target)=imdb.load_data(num_words=500)\n",
    "print(train_input.shape,test_input.shape)"
   ]
  },
  {
   "cell_type": "code",
   "execution_count": null,
   "outputs": [],
   "source": [
    "print(len(train_input[0]), len(train_input[1]))"
   ],
   "metadata": {
    "collapsed": false
   },
   "id": "a8b928bdededab4d"
  },
  {
   "cell_type": "code",
   "execution_count": null,
   "outputs": [],
   "source": [
    "print(train_input[0])"
   ],
   "metadata": {
    "collapsed": false
   },
   "id": "c0bbcf8dd169bcc2"
  },
  {
   "cell_type": "code",
   "execution_count": null,
   "outputs": [],
   "source": [
    "from sklearn.model_selection import train_test_split\n",
    "train_input,val_input,train_target,val_target=train_test_split(train_input,train_target,test_size=0.2,random_state=42)"
   ],
   "metadata": {
    "collapsed": false
   },
   "id": "be3b85f429c64d1e"
  },
  {
   "cell_type": "code",
   "execution_count": null,
   "outputs": [],
   "source": [
    "import numpy as np\n",
    "lengths=np.array([len(x) for x in train_input])\n",
    "print(np.mean(lengths), np.median(lengths))"
   ],
   "metadata": {
    "collapsed": false
   },
   "id": "9a2ebc8f61aa1d4c"
  },
  {
   "cell_type": "code",
   "execution_count": null,
   "outputs": [],
   "source": [
    "import matplotlib.pyplot as plt\n",
    "plt.hist(lengths)\n",
    "plt.xlabel('length')\n",
    "plt.ylabel('frequency')\n",
    "plt.show()"
   ],
   "metadata": {
    "collapsed": false
   },
   "id": "84f9672bfebf0b31"
  },
  {
   "cell_type": "code",
   "execution_count": null,
   "outputs": [],
   "source": [
    "from tensorflow.keras.preprocessing.sequence import pad_sequences\n",
    "train_seq=pad_sequences(train_input,maxlen=100)\n",
    "train_seq.shape"
   ],
   "metadata": {
    "collapsed": false
   },
   "id": "15b0fc5bff95d3d5"
  },
  {
   "cell_type": "code",
   "execution_count": null,
   "outputs": [],
   "source": [
    "train_seq[0]"
   ],
   "metadata": {
    "collapsed": false
   },
   "id": "be2c2f042ae77e16"
  },
  {
   "cell_type": "code",
   "execution_count": null,
   "outputs": [],
   "source": [
    "train_input[0][-10:]"
   ],
   "metadata": {
    "collapsed": false
   },
   "id": "a4c5d6bb238655b2"
  },
  {
   "cell_type": "code",
   "execution_count": null,
   "outputs": [],
   "source": [
    "val_seq=pad_sequences(val_input,maxlen=100)"
   ],
   "metadata": {
    "collapsed": false
   },
   "id": "1620fc529c6e055f"
  },
  {
   "cell_type": "code",
   "execution_count": null,
   "outputs": [],
   "source": [
    "from tensorflow import keras\n",
    "model=keras.Sequential()\n",
    "model.add(keras.layers.SimpleRNN(8,input_shape=(100,500)))\n",
    "model.add(keras.layers.Dense(1,activation='sigmoid'))"
   ],
   "metadata": {
    "collapsed": false
   },
   "id": "e586a0a69adddb3e"
  },
  {
   "cell_type": "code",
   "execution_count": null,
   "outputs": [],
   "source": [
    "train_oh=keras.utils.to_categorical(train_seq)\n",
    "train_oh.shape"
   ],
   "metadata": {
    "collapsed": false
   },
   "id": "70913db77c7c93c1"
  },
  {
   "cell_type": "code",
   "execution_count": null,
   "outputs": [],
   "source": [
    "print(train_oh[0][0][:12])\n",
    "print(np.sum(train_oh[0][0]))"
   ],
   "metadata": {
    "collapsed": false
   },
   "id": "372815dd1bf4310a"
  },
  {
   "cell_type": "code",
   "execution_count": null,
   "outputs": [],
   "source": [
    "val_oh=keras.utils.to_categorical(val_seq)"
   ],
   "metadata": {
    "collapsed": false
   },
   "id": "f477841f0eeba4b1"
  },
  {
   "cell_type": "code",
   "execution_count": null,
   "outputs": [],
   "source": [
    "model.summary()"
   ],
   "metadata": {
    "collapsed": false
   },
   "id": "2486dd34281147a6"
  },
  {
   "cell_type": "code",
   "execution_count": null,
   "outputs": [],
   "source": [
    "rmsprop=keras.optimizers.RMSprop(learning_rate=1e-4)\n",
    "model.compile(optimizer=rmsprop,loss='binary_crossentropy',metrics=['accuracy'])\n",
    "checkpoint_cb=keras.callbacks.ModelCheckpoint('best-simplernn-model.keras')\n",
    "early_stopping_cb=keras.callbacks.EarlyStopping(patience=3,restore_best_weights=True)\n",
    "history=model.fit(train_oh,train_target,epochs=100,batch_size=64,validation_data=(val_oh,val_target),callbacks=[checkpoint_cb,early_stopping_cb])"
   ],
   "metadata": {
    "collapsed": false
   },
   "id": "81cffd5b788908d1"
  },
  {
   "cell_type": "code",
   "execution_count": null,
   "outputs": [],
   "source": [
    "plt.plot(history.history['loss'])\n",
    "plt.plot(history.history['val_loss'])\n",
    "plt.legend(['train','val'])\n",
    "plt.show()"
   ],
   "metadata": {
    "collapsed": false
   },
   "id": "d30d9463d5832863"
  },
  {
   "cell_type": "code",
   "execution_count": null,
   "outputs": [],
   "source": [
    "print(train_seq.nbytes,train_oh.nbytes)"
   ],
   "metadata": {
    "collapsed": false
   },
   "id": "7ce5600556aa115"
  },
  {
   "cell_type": "code",
   "execution_count": null,
   "outputs": [],
   "source": [
    "model2=keras.Sequential()\n",
    "model2.add(keras.layers.Embedding(500,16,input_length=100))\n",
    "model2.add(keras.layers.SimpleRNN(8))\n",
    "model2.add(keras.layers.Dense(1,activation='sigmoid'))"
   ],
   "metadata": {
    "collapsed": false
   },
   "id": "80f17e42690ed662"
  },
  {
   "cell_type": "code",
   "execution_count": null,
   "outputs": [],
   "source": [
    "model2.summary()"
   ],
   "metadata": {
    "collapsed": false
   },
   "id": "bffa36732afdcb0c"
  },
  {
   "cell_type": "code",
   "execution_count": null,
   "outputs": [],
   "source": [
    "rmsprop=keras.optimizers.RMSprop(learning_rate=1e-4)\n",
    "model2.compile(optimizer=rmsprop,loss='binary_crossentropy',metrics=['accuracy'])\n",
    "checkpoint_cb=keras.callbacks.ModelCheckpoint('best-embedding-model.keras')\n",
    "early_stopping_cb=keras.callbacks.EarlyStopping(patience=3,restore_best_weights=True)\n",
    "history=model2.fit(train_seq,train_target,epochs=100,batch_size=64,validation_data=(val_seq,val_target),callbacks=[checkpoint_cb,early_stopping_cb])"
   ],
   "metadata": {
    "collapsed": false
   },
   "id": "89ef983077ec39d7"
  },
  {
   "cell_type": "code",
   "execution_count": null,
   "outputs": [],
   "source": [
    "plt.plot(history.history['loss'])\n",
    "plt.plot(history.history['val_loss'])\n",
    "plt.legend(['train','val'])\n",
    "plt.show()"
   ],
   "metadata": {
    "collapsed": false
   },
   "id": "5eec2ced0c8aa619"
  },
  {
   "cell_type": "code",
   "execution_count": null,
   "outputs": [],
   "source": [
    "(train_input,train_target), (test_input,test_target)=imdb.load_data(num_words=500)\n",
    "print(train_input.shape,test_input.shape)"
   ],
   "metadata": {
    "collapsed": false
   },
   "id": "de73f1893f4437fb"
  },
  {
   "cell_type": "code",
   "execution_count": null,
   "outputs": [],
   "source": [
    "train_seq=pad_sequences(train_input, maxlen=100)\n",
    "val_seq=pad_sequences(val_input,maxlen=100)"
   ],
   "metadata": {
    "collapsed": false
   },
   "id": "d2f0ac2913686e16"
  },
  {
   "cell_type": "code",
   "execution_count": null,
   "outputs": [],
   "source": [
    "model3=keras.Sequential()\n",
    "model3.add(keras.layers.Embedding(500,16,input_length=100))\n",
    "model3.add(keras.layers.LSTM(8))\n",
    "model3.add(keras.layers.Dense(1,activation='sigmoid'))"
   ],
   "metadata": {
    "collapsed": false
   },
   "id": "78abdf2acd69d83"
  },
  {
   "cell_type": "code",
   "execution_count": null,
   "outputs": [],
   "source": [
    "model3.summary()"
   ],
   "metadata": {
    "collapsed": false
   },
   "id": "c7c78a6bbd24c35f"
  },
  {
   "cell_type": "code",
   "execution_count": null,
   "outputs": [],
   "source": [
    "rmsprop=keras.optimizers.RMSprop(learning_rate=1e-4)\n",
    "model3.compile(optimizer=rmsprop,loss='binary_crossentropy',metrics=['accuracy'])\n",
    "checkpoint_cb=keras.callbacks.ModelCheckpoint('best-lstm-model.keras')\n",
    "early_stopping_cb=keras.callbacks.EarlyStopping(patience=3,restore_best_weights=True)\n",
    "history=model3.fit(train_seq,train_target,epochs=100,batch_size=64,validation_data=(val_seq,val_target),callbacks=[checkpoint_cb,early_stopping_cb])"
   ],
   "metadata": {
    "collapsed": false
   },
   "id": "21a10fed8d18bc1a"
  },
  {
   "cell_type": "code",
   "execution_count": null,
   "outputs": [],
   "source": [
    "plt.plot(history.history['loss'])\n",
    "plt.plot(history.history['val_loss'])\n",
    "plt.legend(['train','val'])\n",
    "plt.show()"
   ],
   "metadata": {
    "collapsed": false
   },
   "id": "b075aff5c240d4f9"
  },
  {
   "cell_type": "code",
   "execution_count": null,
   "outputs": [],
   "source": [
    "model4=keras.Sequential()\n",
    "model4.add(keras.layers.Embedding(500,16,input_length=100))\n",
    "model4.add(keras.layers.LSTM(8,dropout=0.3))\n",
    "model4.add(keras.layers.Dense(1,activation='sigmoid'))\n",
    "rmsprop=keras.optimizers.RMSprop(learning_rate=1e-4)\n",
    "model4.compile(optimizer=rmsprop,loss='binary_crossentropy',metrics=['accuracy'])\n",
    "checkpoint_cb=keras.callbacks.ModelCheckpoint('best-lstm-model.keras')\n",
    "early_stopping_cb=keras.callbacks.EarlyStopping(patience=3,restore_best_weights=True)\n",
    "history=model4.fit(train_seq,train_target,epochs=100,batch_size=64,validation_data=(val_seq,val_target),callbacks=[checkpoint_cb,early_stopping_cb])"
   ],
   "metadata": {
    "collapsed": false
   },
   "id": "a8d3a11916c96233"
  },
  {
   "cell_type": "code",
   "execution_count": null,
   "outputs": [],
   "source": [
    "plt.plot(history.history['loss'])\n",
    "plt.plot(history.history['val_loss'])\n",
    "plt.legend(['train','val'])\n",
    "plt.show()"
   ],
   "metadata": {
    "collapsed": false
   },
   "id": "893f7078cc4fe19a"
  },
  {
   "cell_type": "code",
   "execution_count": null,
   "outputs": [],
   "source": [
    "model5=keras.Sequential()\n",
    "model5.add(keras.layers.Embedding(500,16,input_length=100))\n",
    "model5.add(keras.layers.LSTM(8,dropout=0.3,return_sequences=True))\n",
    "model5.add(keras.layers.LSTM(8,dropout=0.3))\n",
    "model5.add(keras.layers.Dense(1,activation='sigmoid'))\n",
    "rmsprop=keras.optimizers.RMSprop(learning_rate=1e-4)\n",
    "model5.compile(optimizer=rmsprop,loss='binary_crossentropy',metrics=['accuracy'])\n",
    "checkpoint_cb=keras.callbacks.ModelCheckpoint('best-lstm-model.keras')\n",
    "early_stopping_cb=keras.callbacks.EarlyStopping(patience=3,restore_best_weights=True)\n",
    "history=model5.fit(train_seq,train_target,epochs=100,batch_size=64,validation_data=(val_seq,val_target),callbacks=[checkpoint_cb,early_stopping_cb])"
   ],
   "metadata": {
    "collapsed": false
   },
   "id": "d0411c93ce15314c"
  },
  {
   "cell_type": "code",
   "execution_count": null,
   "outputs": [],
   "source": [
    "plt.plot(history.history['loss'])\n",
    "plt.plot(history.history['val_loss'])\n",
    "plt.legend(['train','val'])\n",
    "plt.show()"
   ],
   "metadata": {
    "collapsed": false
   },
   "id": "d241c7f6dfc961a9"
  },
  {
   "cell_type": "code",
   "execution_count": null,
   "outputs": [],
   "source": [
    "model6=keras.Sequential()\n",
    "model6.add(keras.layers.Embedding(500,16,input_length=100))\n",
    "model6.add(keras.layers.GRU(8))\n",
    "model6.add(keras.layers.Dense(1,activation='sigmoid'))\n",
    "rmsprop=keras.optimizers.RMSprop(learning_rate=1e-4)\n",
    "model6.compile(optimizer=rmsprop,loss='binary_crossentropy',metrics=['accuracy'])\n",
    "checkpoint_cb=keras.callbacks.ModelCheckpoint('best-gru-model.keras')\n",
    "early_stopping_cb=keras.callbacks.EarlyStopping(patience=3,restore_best_weights=True)\n",
    "history=model6.fit(train_seq,train_target,epochs=100,batch_size=64,validation_data=(val_seq,val_target),callbacks=[checkpoint_cb,early_stopping_cb])"
   ],
   "metadata": {
    "collapsed": false
   },
   "id": "31ccbde8d145d8d7"
  },
  {
   "cell_type": "code",
   "execution_count": null,
   "outputs": [],
   "source": [
    "plt.plot(history.history['loss'])\n",
    "plt.plot(history.history['val_loss'])\n",
    "plt.legend(['train','val'])\n",
    "plt.show()"
   ],
   "metadata": {
    "collapsed": false
   },
   "id": "1e6bbcefa701d1ce"
  },
  {
   "cell_type": "code",
   "execution_count": null,
   "outputs": [],
   "source": [
    "test_seq=pad_sequences(test_input,test_target)\n",
    "rnn_model=keras.models.load_model('best-2rnn-model.keras')\n",
    "rnn_model.evaluate(val_seq,val_target)"
   ],
   "metadata": {
    "collapsed": false
   },
   "id": "4b421d7a682d0e59"
  }
 ],
 "metadata": {
  "kernelspec": {
   "display_name": "Python 3",
   "language": "python",
   "name": "python3"
  },
  "language_info": {
   "codemirror_mode": {
    "name": "ipython",
    "version": 2
   },
   "file_extension": ".py",
   "mimetype": "text/x-python",
   "name": "python",
   "nbconvert_exporter": "python",
   "pygments_lexer": "ipython2",
   "version": "2.7.6"
  }
 },
 "nbformat": 4,
 "nbformat_minor": 5
}
