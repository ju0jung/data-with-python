{
 "cells": [
  {
   "cell_type": "code",
   "execution_count": null,
   "id": "initial_id",
   "metadata": {
    "collapsed": true
   },
   "outputs": [],
   "source": [
    "import tensorflow as tf\n",
    "from tensorflow import keras\n",
    "tf.keras.utils.set_random_seed(42)\n",
    "tf.config.experimental.enable_op_determinism()\n",
    "(train_input,train_target), (test_input,test_target) = keras.datasets.fashion_mnist.load_data()"
   ]
  },
  {
   "cell_type": "code",
   "execution_count": null,
   "outputs": [],
   "source": [
    "import matplotlib.pyplot as plt\n",
    "fig,axs = plt.subplots(1,10, figsize=(10,10))\n",
    "for idx in range(10):\n",
    "  axs[idx].imshow(train_input[idx],cmap='gray')\n",
    "  axs[idx].axis('off')\n",
    "plt.show()"
   ],
   "metadata": {
    "collapsed": false
   },
   "id": "7e0fa53dd6636b6c"
  },
  {
   "cell_type": "code",
   "execution_count": null,
   "outputs": [],
   "source": [
    "[train_target[idx] for idx in range(10)]"
   ],
   "metadata": {
    "collapsed": false
   },
   "id": "c408a0234cb851b3"
  },
  {
   "cell_type": "code",
   "execution_count": null,
   "outputs": [],
   "source": [
    "import numpy as np\n",
    "np.unique(train_target, return_counts=True)"
   ],
   "metadata": {
    "collapsed": false
   },
   "id": "7b86f98a46d3d0d"
  },
  {
   "cell_type": "code",
   "execution_count": null,
   "outputs": [],
   "source": [
    "train_scaled=train_input/255.0\n",
    "train_scaled=train_scaled.reshape(-1,28*28)\n",
    "train_scaled.shape"
   ],
   "metadata": {
    "collapsed": false
   },
   "id": "34d2812bba5d5d26"
  },
  {
   "cell_type": "code",
   "execution_count": null,
   "outputs": [],
   "source": [
    "from sklearn.model_selection import cross_validate\n",
    "from sklearn.linear_model import SGDClassifier\n",
    "sc=SGDClassifier(loss='log_loss',max_iter=20,random_state=42)\n",
    "scores=cross_validate(sc,train_scaled,train_target,n_jobs=-1)\n",
    "np.mean(scores['test_score'])"
   ],
   "metadata": {
    "collapsed": false
   },
   "id": "9e0c88f700b25d4b"
  },
  {
   "cell_type": "code",
   "execution_count": null,
   "outputs": [],
   "source": [
    "from sklearn.model_selection import train_test_split\n",
    "train_scaled=train_input/255.0\n",
    "train_scaled,val_scaled,train_target,val_target=train_test_split(train_scaled,train_target,test_size=0.2,random_state=42)\n",
    "print(train_scaled.shape, train_target.shape,val_scaled.shape,val_target.shape)"
   ],
   "metadata": {
    "collapsed": false
   },
   "id": "8ebdd4a25329c5ac"
  },
  {
   "cell_type": "code",
   "execution_count": null,
   "outputs": [],
   "source": [
    "dense=keras.layers.Dense(10,activation='softmax',input_shape=(784,))\n",
    "model=keras.Sequential([dense])"
   ],
   "metadata": {
    "collapsed": false
   },
   "id": "476cf45e98ebf784"
  },
  {
   "cell_type": "code",
   "execution_count": null,
   "outputs": [],
   "source": [
    "model.compile(loss='sparse_categorical_crossentropy',metrics=['accuracy'])"
   ],
   "metadata": {
    "collapsed": false
   },
   "id": "bb3d4ef088309992"
  },
  {
   "cell_type": "code",
   "execution_count": null,
   "outputs": [],
   "source": [
    "model.fit(train_scaled,train_target,epochs=5)"
   ],
   "metadata": {
    "collapsed": false
   },
   "id": "bfcb72dcbeae5554"
  },
  {
   "cell_type": "code",
   "execution_count": null,
   "outputs": [],
   "source": [
    "model.evaluate(val_scaled,val_target)"
   ],
   "metadata": {
    "collapsed": false
   },
   "id": "36986434ad900a7f"
  },
  {
   "cell_type": "code",
   "execution_count": null,
   "outputs": [],
   "source": [
    "hidden_layer= keras.layers.Dense(100,activation='sigmoid',input_shape=(784,))\n",
    "output_layer= keras.layers.Dense(10,activation='softmax')"
   ],
   "metadata": {
    "collapsed": false
   },
   "id": "fb466371a2aa0ff9"
  },
  {
   "cell_type": "code",
   "execution_count": null,
   "outputs": [],
   "source": [
    "model=keras.Sequential([hidden_layer,output_layer])"
   ],
   "metadata": {
    "collapsed": false
   },
   "id": "e5bd7255eb38b2e2"
  },
  {
   "cell_type": "code",
   "execution_count": null,
   "outputs": [],
   "source": [
    "model.summary()"
   ],
   "metadata": {
    "collapsed": false
   },
   "id": "de4deefad7e77ff1"
  },
  {
   "cell_type": "code",
   "execution_count": null,
   "outputs": [],
   "source": [
    "model = keras.Sequential()\n",
    "model.add(keras.layers.Dense(100,activation='sigmoid',input_shape=(784,)))\n",
    "model.add(keras.layers.Dense(10,activation='softmax'))"
   ],
   "metadata": {
    "collapsed": false
   },
   "id": "b2531acdcf7e9db5"
  },
  {
   "cell_type": "code",
   "execution_count": null,
   "outputs": [],
   "source": [
    "model.summary()"
   ],
   "metadata": {
    "collapsed": false
   },
   "id": "c5345b5ca354c088"
  },
  {
   "cell_type": "code",
   "execution_count": null,
   "outputs": [],
   "source": [
    "model.compile(loss='sparse_categorical_crossentropy',metrics=['accuracy'])\n",
    "model.fit(train_scaled,train_target,epochs=5)"
   ],
   "metadata": {
    "collapsed": false
   },
   "id": "53246f6f033962a2"
  },
  {
   "cell_type": "code",
   "execution_count": null,
   "outputs": [],
   "source": [
    "model=keras.Sequential()\n",
    "model.add(keras.layers.Flatten(input_shape=(28,28)))\n",
    "model.add(keras.layers.Dense(100,activation='relu'))\n",
    "model.add(keras.layers.Dense(10,activation='softmax'))"
   ],
   "metadata": {
    "collapsed": false
   },
   "id": "9178c17236872746"
  },
  {
   "cell_type": "code",
   "execution_count": null,
   "outputs": [],
   "source": [
    "(train_input, train_target),(test_input,test_target)=keras.datasets.fashion_mnist.load_data()\n",
    "train_scaled=train_input/255.0\n",
    "train_scaled,val_scaled,train_target,val_target=train_test_split(train_scaled,train_target,test_size=0.2,random_state=42)"
   ],
   "metadata": {
    "collapsed": false
   },
   "id": "b7eed5b4598d0653"
  },
  {
   "cell_type": "code",
   "execution_count": null,
   "outputs": [],
   "source": [
    "model.compile(loss='sparse_categorical_crossentropy',metrics=['accuracy'])\n",
    "model.fit(train_scaled,train_target,epochs=5)"
   ],
   "metadata": {
    "collapsed": false
   },
   "id": "bd72490d2ea12ec1"
  },
  {
   "cell_type": "code",
   "execution_count": null,
   "outputs": [],
   "source": [
    "model.evaluate(val_scaled,val_target)"
   ],
   "metadata": {
    "collapsed": false
   },
   "id": "275fd5609ff08494"
  },
  {
   "cell_type": "code",
   "execution_count": null,
   "outputs": [],
   "source": [
    "model.compile(optimizer='sgd',loss='sparse_categorical_crossentropy',metrics=['accuracy'])"
   ],
   "metadata": {
    "collapsed": false
   },
   "id": "c901fbd368732cc2"
  },
  {
   "cell_type": "code",
   "execution_count": null,
   "outputs": [],
   "source": [
    "model.compile(optimizer='adam',loss='sparse_categorical_crossentropy',metrics=['accuracy'])\n",
    "model.fit(train_scaled,train_target,epochs=5)"
   ],
   "metadata": {
    "collapsed": false
   },
   "id": "6a043a15801584cd"
  },
  {
   "cell_type": "code",
   "execution_count": null,
   "outputs": [],
   "source": [
    "model.evaluate(val_scaled,val_target)"
   ],
   "metadata": {
    "collapsed": false
   },
   "id": "5db0fd4ecca5f8f3"
  },
  {
   "cell_type": "code",
   "execution_count": null,
   "outputs": [],
   "source": [
    "def make_model(a_layer=None):\n",
    "  model=keras.Sequential()\n",
    "  model.add(keras.layers.Flatten(input_shape=(28,28)))\n",
    "  model.add(keras.layers.Dense(100,activation='relu'))\n",
    "  if a_layer:\n",
    "    model.add(a_layer)\n",
    "  model.add(keras.layers.Dense(10,activation='softmax'))\n",
    "  return model"
   ],
   "metadata": {
    "collapsed": false
   },
   "id": "295421a3a83d4ef6"
  },
  {
   "cell_type": "code",
   "execution_count": null,
   "outputs": [],
   "source": [
    "model=make_model()"
   ],
   "metadata": {
    "collapsed": false
   },
   "id": "4bb047b9aa0b7d34"
  },
  {
   "cell_type": "code",
   "execution_count": null,
   "outputs": [],
   "source": [
    "model.compile(loss='sparse_categorical_crossentropy',metrics=['accuracy'])\n",
    "history=model.fit(train_scaled,train_target,epochs=5,verbose=2)"
   ],
   "metadata": {
    "collapsed": false
   },
   "id": "ef1457c408951ae4"
  },
  {
   "cell_type": "code",
   "execution_count": null,
   "outputs": [],
   "source": [
    "import matplotlib.pyplot as plt\n",
    "plt.plot(history.history['loss'])\n",
    "plt.show()"
   ],
   "metadata": {
    "collapsed": false
   },
   "id": "ddd492c76047f257"
  },
  {
   "cell_type": "code",
   "execution_count": null,
   "outputs": [],
   "source": [
    "plt.plot(history.history['accuracy'])\n",
    "plt.show()"
   ],
   "metadata": {
    "collapsed": false
   },
   "id": "b60646d5eacdc02b"
  },
  {
   "cell_type": "code",
   "execution_count": null,
   "outputs": [],
   "source": [
    "model=make_model()\n",
    "model.compile(loss='sparse_categorical_crossentropy',metrics=['accuracy'])\n",
    "history=model.fit(train_scaled,train_target,epochs=20,verbose=0)\n",
    "plt.plot(history.history['loss'])\n",
    "plt.show()"
   ],
   "metadata": {
    "collapsed": false
   },
   "id": "b15bf1badf6f0003"
  },
  {
   "cell_type": "code",
   "execution_count": null,
   "outputs": [],
   "source": [
    "model=make_model()\n",
    "model.compile(loss='sparse_categorical_crossentropy',metrics=['accuracy'])\n",
    "history=model.fit(train_scaled,train_target,epochs=20,verbose=0,validation_data=(val_scaled,val_target))"
   ],
   "metadata": {
    "collapsed": false
   },
   "id": "fbcb3c5714747baa"
  },
  {
   "cell_type": "code",
   "execution_count": null,
   "outputs": [],
   "source": [
    "plt.plot(history.history['loss'])\n",
    "plt.plot(history.history['val_loss'])\n",
    "plt.legend(['train','validation'])\n",
    "plt.show()"
   ],
   "metadata": {
    "collapsed": false
   },
   "id": "efdca087830bd985"
  },
  {
   "cell_type": "code",
   "execution_count": null,
   "outputs": [],
   "source": [
    "model=make_model()\n",
    "model.compile(optimizer='adam',loss='sparse_categorical_crossentropy',metrics=['accuracy'])\n",
    "history=model.fit(train_scaled,train_target,epochs=20,verbose=0,validation_data=(val_scaled,val_target))"
   ],
   "metadata": {
    "collapsed": false
   },
   "id": "bfa78008089c491c"
  },
  {
   "cell_type": "code",
   "execution_count": null,
   "outputs": [],
   "source": [
    "plt.plot(history.history['loss'])\n",
    "plt.plot(history.history['val_loss'])\n",
    "plt.legend(['train','validation'])\n",
    "plt.show()"
   ],
   "metadata": {
    "collapsed": false
   },
   "id": "91fae26291d77ed"
  },
  {
   "cell_type": "code",
   "execution_count": null,
   "outputs": [],
   "source": [
    "model=make_model(keras.layers.Dropout(0.3))\n",
    "model.compile(optimizer='adam',loss='sparse_categorical_crossentropy',metrics=['accuracy'])\n",
    "history=model.fit(train_scaled,train_target,epochs=20,verbose=0,validation_data=(val_scaled,val_target))"
   ],
   "metadata": {
    "collapsed": false
   },
   "id": "cc9c60c81d8931f6"
  },
  {
   "cell_type": "code",
   "execution_count": null,
   "outputs": [],
   "source": [
    "plt.plot(history.history['loss'])\n",
    "plt.plot(history.history['val_loss'])\n",
    "plt.legend(['train','validation'])\n",
    "plt.show()"
   ],
   "metadata": {
    "collapsed": false
   },
   "id": "91f5797f3fbd126c"
  },
  {
   "cell_type": "code",
   "execution_count": null,
   "outputs": [],
   "source": [
    "model=make_model(keras.layers.Dropout(0.3))\n",
    "model.compile(optimizer='adam',loss='sparse_categorical_crossentropy',metrics=['accuracy'])\n",
    "history=model.fit(train_scaled,train_target,epochs=10,verbose=0,validation_data=(val_scaled,val_target))"
   ],
   "metadata": {
    "collapsed": false
   },
   "id": "bd6b4736ee4709b0"
  },
  {
   "cell_type": "code",
   "execution_count": null,
   "outputs": [],
   "source": [
    "model.save_weights('model.weights.h5')\n",
    "model.save('model.whole.h5')\n",
    "!ls -al *.h5"
   ],
   "metadata": {
    "collapsed": false
   },
   "id": "8979727311a963c9"
  },
  {
   "cell_type": "code",
   "execution_count": null,
   "outputs": [],
   "source": [
    "model=make_model(keras.layers.Dropout(0.3))\n",
    "model.load_weights('model.weights.h5')"
   ],
   "metadata": {
    "collapsed": false
   },
   "id": "3ada18f8ff47cdb7"
  },
  {
   "cell_type": "code",
   "execution_count": null,
   "outputs": [],
   "source": [
    "import numpy as np\n",
    "val_labels=np.argmax(model.predict(val_scaled), axis=-1)\n",
    "np.mean(val_labels == val_target)"
   ],
   "metadata": {
    "collapsed": false
   },
   "id": "6a53658e4ed93fe7"
  },
  {
   "cell_type": "code",
   "execution_count": null,
   "outputs": [],
   "source": [
    "model=keras.models.load_model('model.whole.h5')\n",
    "model.evaluate(val_scaled,val_target)"
   ],
   "metadata": {
    "collapsed": false
   },
   "id": "8a0ad93335048935"
  },
  {
   "cell_type": "code",
   "execution_count": null,
   "outputs": [],
   "source": [
    "model=make_model(keras.layers.Dropout(0.3))\n",
    "model.compile(optimizer='adam',loss='sparse_categorical_crossentropy',metrics=['accuracy'])\n",
    "checkpoint_cb=keras.callbacks.ModelCheckpoint('best-model.h5.keras')\n",
    "model.fit(train_scaled,train_target,epochs=20,verbose=0,validation_data=(val_scaled,val_target), callbacks=[checkpoint_cb])"
   ],
   "metadata": {
    "collapsed": false
   },
   "id": "34a3560502f7ddbf"
  },
  {
   "cell_type": "code",
   "execution_count": null,
   "outputs": [],
   "source": [
    "model=keras.models.load_model('best-model.h5.keras')\n",
    "model.evaluate(val_scaled,val_target)"
   ],
   "metadata": {
    "collapsed": false
   },
   "id": "e0429fb488fc50d1"
  },
  {
   "cell_type": "code",
   "execution_count": null,
   "outputs": [],
   "source": [
    "model=make_model(keras.layers.Dropout(0.3))\n",
    "model.compile(optimizer='adam',loss='sparse_categorical_crossentropy',metrics=['accuracy'])\n",
    "checkpoint_cb=keras.callbacks.ModelCheckpoint('best-model2.h5.keras')\n",
    "early_stopping_cb=keras.callbacks.EarlyStopping(patience=2,restore_best_weights=True)\n",
    "history=model.fit(train_scaled,train_target,epochs=20,verbose=0,validation_data=(val_scaled,val_target), callbacks=[checkpoint_cb,early_stopping_cb])"
   ],
   "metadata": {
    "collapsed": false
   },
   "id": "4ad8d2771af574b2"
  },
  {
   "cell_type": "code",
   "execution_count": null,
   "outputs": [],
   "source": [
    "early_stopping_cb.stopped_epoch"
   ],
   "metadata": {
    "collapsed": false
   },
   "id": "dd2650b905542c12"
  },
  {
   "cell_type": "code",
   "execution_count": null,
   "outputs": [],
   "source": [
    "plt.plot(history.history['loss'])\n",
    "plt.plot(history.history['val_loss'])\n",
    "plt.legend(['train','validation'])\n",
    "plt.show()"
   ],
   "metadata": {
    "collapsed": false
   },
   "id": "7a40b6d40d6c3a55"
  },
  {
   "cell_type": "code",
   "execution_count": null,
   "outputs": [],
   "source": [
    "model.evaluate(val_scaled,val_target)"
   ],
   "metadata": {
    "collapsed": false
   },
   "id": "9b42cf300e382d67"
  }
 ],
 "metadata": {
  "kernelspec": {
   "display_name": "Python 3",
   "language": "python",
   "name": "python3"
  },
  "language_info": {
   "codemirror_mode": {
    "name": "ipython",
    "version": 2
   },
   "file_extension": ".py",
   "mimetype": "text/x-python",
   "name": "python",
   "nbconvert_exporter": "python",
   "pygments_lexer": "ipython2",
   "version": "2.7.6"
  }
 },
 "nbformat": 4,
 "nbformat_minor": 5
}
