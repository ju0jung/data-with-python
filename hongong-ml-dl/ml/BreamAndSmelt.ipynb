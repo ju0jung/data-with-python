{
 "cells": [
  {
   "cell_type": "code",
   "execution_count": null,
   "id": "initial_id",
   "metadata": {
    "collapsed": true
   },
   "outputs": [],
   "source": [
    "import matplotlib.pyplot as plt\n",
    "\n",
    "bream_length = [25.4, 26.3, 26.5, 29.0, 29.0, 29.7, 29.7, 30.0, 30.0, 30.7, 31.0, 31.0,\n",
    "                31.5, 32.0, 32.0, 32.0, 33.0, 33.0, 33.5, 33.5, 34.0, 34.0, 34.5, 35.0,\n",
    "                35.0, 35.0, 35.0, 36.0, 36.0, 37.0, 38.5, 38.5, 39.5, 41.0, 41.0]\n",
    "bream_weight = [242.0, 290.0, 340.0, 363.0, 430.0, 450.0, 500.0, 390.0, 450.0, 500.0, 475.0, 500.0,\n",
    "                500.0, 340.0, 600.0, 600.0, 700.0, 700.0, 610.0, 650.0, 575.0, 685.0, 620.0, 680.0,\n",
    "                700.0, 725.0, 720.0, 714.0, 850.0, 1000.0, 920.0, 955.0, 925.0, 975.0, 950.0]\n",
    "smelt_length = [9.8, 10.5, 10.6, 11.0, 11.2, 11.3, 11.8, 11.8, 12.0, 12.2, 12.4, 13.0, 14.3, 15.0]\n",
    "smelt_weight = [6.7, 7.5, 7.0, 9.7, 9.8, 8.7, 10.0, 9.9, 9.8, 12.2, 13.4, 12.2, 19.7, 19.9]"
   ]
  },
  {
   "cell_type": "code",
   "execution_count": null,
   "outputs": [],
   "source": [
    "plt.scatter(bream_length, bream_weight)\n",
    "plt.scatter(smelt_length, smelt_weight)\n",
    "plt.xlabel('length')\n",
    "plt.ylabel('weight')\n",
    "plt.show()"
   ],
   "metadata": {
    "collapsed": false
   },
   "id": "41aa52c92713ba85"
  },
  {
   "cell_type": "code",
   "execution_count": null,
   "outputs": [],
   "source": [
    "length = bream_length+smelt_length\n",
    "weight = bream_weight+smelt_weight\n",
    "fish_data = [[l,w] for l,w in zip(length,weight)]"
   ],
   "metadata": {
    "collapsed": false
   },
   "id": "7ea1e49dff66a807"
  },
  {
   "cell_type": "code",
   "execution_count": null,
   "outputs": [],
   "source": [
    "print(fish_data)"
   ],
   "metadata": {
    "collapsed": false
   },
   "id": "f9dd8b99fc53db1c"
  },
  {
   "cell_type": "code",
   "execution_count": null,
   "outputs": [],
   "source": [
    "fish_target=[1]*len(bream_weight)+[0]*len(smelt_weight)\n",
    "print(fish_target)"
   ],
   "metadata": {
    "collapsed": false
   },
   "id": "2322dda6b118785f"
  },
  {
   "cell_type": "code",
   "execution_count": null,
   "outputs": [],
   "source": [
    "from sklearn.neighbors import KNeighborsClassifier\n",
    "kn=KNeighborsClassifier()\n",
    "kn.fit(fish_data,fish_target)\n",
    "kn.score(fish_data,fish_target)"
   ],
   "metadata": {
    "collapsed": false
   },
   "id": "935f2591f314e1d7"
  },
  {
   "cell_type": "code",
   "execution_count": null,
   "outputs": [],
   "source": [
    "kn.predict([[30,600]])"
   ],
   "metadata": {
    "collapsed": false
   },
   "id": "2a49817f9f7d43b2"
  },
  {
   "cell_type": "code",
   "execution_count": null,
   "outputs": [],
   "source": [
    "print(kn._fit_X)"
   ],
   "metadata": {
    "collapsed": false
   },
   "id": "5a32314132423e19"
  },
  {
   "cell_type": "code",
   "execution_count": null,
   "outputs": [],
   "source": [
    "print(kn._y)"
   ],
   "metadata": {
    "collapsed": false
   },
   "id": "543b807ffed1cecc"
  },
  {
   "cell_type": "code",
   "execution_count": null,
   "outputs": [],
   "source": [
    "kn49 = KNeighborsClassifier(n_neighbors=49)"
   ],
   "metadata": {
    "collapsed": false
   },
   "id": "f5d20b748246881f"
  },
  {
   "cell_type": "code",
   "execution_count": null,
   "outputs": [],
   "source": [
    "len(fish_data)"
   ],
   "metadata": {
    "collapsed": false
   },
   "id": "f1643d7795ab5644"
  },
  {
   "cell_type": "code",
   "execution_count": null,
   "outputs": [],
   "source": [
    "kn49.fit(fish_data,fish_target)\n",
    "kn49.score(fish_data,fish_target)"
   ],
   "metadata": {
    "collapsed": false
   },
   "id": "7c20fe4a3be959aa"
  },
  {
   "cell_type": "code",
   "execution_count": null,
   "outputs": [],
   "source": [
    "for n in range(5,50):\n",
    "  kn.n_neighbors = n\n",
    "  score=kn.score(fish_data,fish_target)\n",
    "  print('n',n,score)\n",
    "  \n",
    "  if score<1:\n",
    "    print('hello',n,score)\n",
    "    break"
   ],
   "metadata": {
    "collapsed": false
   },
   "id": "d6771388d6d4155"
  },
  {
   "cell_type": "code",
   "execution_count": null,
   "outputs": [],
   "source": [
    "import numpy as np\n",
    "\n",
    "fish_length = [25.4, 26.3, 26.5, 29.0, 29.0, 29.7, 29.7, 30.0, 30.0, 30.7, 31.0, 31.0,\n",
    "               31.5, 32.0, 32.0, 32.0, 33.0, 33.0, 33.5, 33.5, 34.0, 34.0, 34.5, 35.0,\n",
    "               35.0, 35.0, 35.0, 36.0, 36.0, 37.0, 38.5, 38.5, 39.5, 41.0, 41.0, 9.8,\n",
    "               10.5, 10.6, 11.0, 11.2, 11.3, 11.8, 11.8, 12.0, 12.2, 12.4, 13.0, 14.3, 15.0]\n",
    "fish_weight = [242.0, 290.0, 340.0, 363.0, 430.0, 450.0, 500.0, 390.0, 450.0, 500.0, 475.0, 500.0,\n",
    "               500.0, 340.0, 600.0, 600.0, 700.0, 700.0, 610.0, 650.0, 575.0, 685.0, 620.0, 680.0,\n",
    "               700.0, 725.0, 720.0, 714.0, 850.0, 1000.0, 920.0, 955.0, 925.0, 975.0, 950.0, 6.7,\n",
    "               7.5, 7.0, 9.7, 9.8, 8.7, 10.0, 9.9, 9.8, 12.2, 13.4, 12.2, 19.7, 19.9]"
   ],
   "metadata": {
    "collapsed": false
   },
   "id": "b704f2c3907ad7c9"
  },
  {
   "cell_type": "code",
   "execution_count": null,
   "outputs": [],
   "source": [
    "input_arr=np.array(fish_data)\n",
    "target_arr=np.array(fish_target)\n",
    "input_arr"
   ],
   "metadata": {
    "collapsed": false
   },
   "id": "681899055d575f38"
  },
  {
   "cell_type": "code",
   "execution_count": null,
   "outputs": [],
   "source": [
    "np.random.seed(42)\n",
    "idx=np.arange(len(fish_target))\n",
    "np.random.shuffle(idx)\n",
    "idx"
   ],
   "metadata": {
    "collapsed": false
   },
   "id": "d34160f16c156fd8"
  },
  {
   "cell_type": "code",
   "execution_count": null,
   "outputs": [],
   "source": [
    "train_input=input_arr[idx[:35]]\n",
    "train_target=target_arr[idx[:35]]\n",
    "print(input_arr[13],train_input[0])"
   ],
   "metadata": {
    "collapsed": false
   },
   "id": "c9493781bd169468"
  },
  {
   "cell_type": "code",
   "execution_count": null,
   "outputs": [],
   "source": [
    "test_input = input_arr[idx[35:]]\n",
    "test_target=target_arr[idx[35:]]"
   ],
   "metadata": {
    "collapsed": false
   },
   "id": "fc40b5565804b883"
  },
  {
   "cell_type": "code",
   "execution_count": null,
   "outputs": [],
   "source": [
    "plt.scatter(train_input[:,0], train_input[:,1])\n",
    "plt.scatter(test_input[:,0], test_input[:,1])\n",
    "plt.xlabel('length')\n",
    "plt.ylabel('weight')\n",
    "plt.show()\n"
   ],
   "metadata": {
    "collapsed": false
   },
   "id": "57a8bf4556f6c8fa"
  },
  {
   "cell_type": "code",
   "execution_count": null,
   "outputs": [],
   "source": [
    "kn.n_neighbors =5\n",
    "kn=kn.fit(train_input,train_target)\n",
    "kn.score(test_input,test_target)\n",
    "# print(kn._fit_X)"
   ],
   "metadata": {
    "collapsed": false
   },
   "id": "719b55fc779d1bf0"
  },
  {
   "cell_type": "code",
   "execution_count": null,
   "outputs": [],
   "source": [
    "kn.predict(test_input)"
   ],
   "metadata": {
    "collapsed": false
   },
   "id": "3d8fa85091408aa7"
  },
  {
   "cell_type": "code",
   "execution_count": null,
   "outputs": [],
   "source": [
    "test_target"
   ],
   "metadata": {
    "collapsed": false
   },
   "id": "505e0d890b19cc00"
  },
  {
   "cell_type": "code",
   "execution_count": null,
   "outputs": [],
   "source": [
    "fish_data=np.column_stack((fish_length, fish_weight))\n",
    "fish_data"
   ],
   "metadata": {
    "collapsed": false
   },
   "id": "df673371c0fa1487"
  },
  {
   "cell_type": "code",
   "execution_count": null,
   "outputs": [],
   "source": [
    "fish_target=np.concatenate((np.ones(35),np.zeros(14)))\n",
    "fish_target"
   ],
   "metadata": {
    "collapsed": false
   },
   "id": "93c6a87e7d62cee6"
  },
  {
   "cell_type": "code",
   "execution_count": null,
   "outputs": [],
   "source": [
    "from sklearn.model_selection import train_test_split\n",
    "train_input, test_input,train_target,test_target=train_test_split(\n",
    "    fish_data,fish_target,random_state=42,stratify=fish_target\n",
    ")\n",
    "# print(train_input.shape, test_input.shape)"
   ],
   "metadata": {
    "collapsed": false
   },
   "id": "a80257483d24e28d"
  },
  {
   "cell_type": "code",
   "execution_count": null,
   "outputs": [],
   "source": [
    "test_target"
   ],
   "metadata": {
    "collapsed": false
   },
   "id": "7e6bcc2a97ecf64e"
  },
  {
   "cell_type": "code",
   "execution_count": null,
   "outputs": [],
   "source": [
    "kn.fit(train_input,train_target)\n",
    "kn.score(test_input,test_target)"
   ],
   "metadata": {
    "collapsed": false
   },
   "id": "62bb266a2de5d258"
  },
  {
   "cell_type": "code",
   "execution_count": null,
   "outputs": [],
   "source": [
    "print(kn.predict([[25,150]]))"
   ],
   "metadata": {
    "collapsed": false
   },
   "id": "9fa0b9f0dda15aac"
  },
  {
   "cell_type": "code",
   "execution_count": null,
   "outputs": [],
   "source": [
    "plt.scatter(train_input[:,0],train_input[:,1])\n",
    "plt.scatter(25,150,marker='^')\n",
    "plt.show()"
   ],
   "metadata": {
    "collapsed": false
   },
   "id": "3d5a671aecc7eac5"
  },
  {
   "cell_type": "code",
   "execution_count": null,
   "outputs": [],
   "source": [
    "distances, indexes = kn.kneighbors([[25,150]])\n",
    "plt.scatter(train_input[:,0],train_input[:,1])\n",
    "plt.scatter(25,150,marker='^')\n",
    "plt.scatter(train_input[indexes,0], train_input[indexes,1], marker=\"D\")\n",
    "plt.show()"
   ],
   "metadata": {
    "collapsed": false
   },
   "id": "4dffe5d5b4cdd112"
  },
  {
   "cell_type": "code",
   "execution_count": null,
   "outputs": [],
   "source": [
    "train_target[indexes]\n",
    "indexes\n",
    "distances"
   ],
   "metadata": {
    "collapsed": false
   },
   "id": "9545c2885921d4ac"
  },
  {
   "cell_type": "code",
   "execution_count": null,
   "outputs": [],
   "source": [
    "plt.scatter(train_input[:,0],train_input[:,1])\n",
    "plt.scatter(25,150,marker='^')\n",
    "plt.scatter(train_input[indexes,0], train_input[indexes,1], marker=\"D\")\n",
    "plt.xlim(0,1000)\n",
    "plt.show()"
   ],
   "metadata": {
    "collapsed": false
   },
   "id": "57957bd7439795d5"
  },
  {
   "cell_type": "code",
   "execution_count": null,
   "outputs": [],
   "source": [
    "mean=np.mean(train_input,axis=0)\n",
    "std=np.std(train_input,axis=0)\n",
    "print(mean, std)"
   ],
   "metadata": {
    "collapsed": false
   },
   "id": "5931edc350d906f6"
  },
  {
   "cell_type": "code",
   "execution_count": null,
   "outputs": [],
   "source": [
    "train_scale=(train_input-mean)/std"
   ],
   "metadata": {
    "collapsed": false
   },
   "id": "2b4c21f9f1ab8191"
  },
  {
   "cell_type": "code",
   "execution_count": null,
   "outputs": [],
   "source": [
    "plt.scatter(train_scale[:,0],train_scale[:,1])\n",
    "plt.scatter(25,150,marker='^')\n",
    "plt.show()"
   ],
   "metadata": {
    "collapsed": false
   },
   "id": "67cc6271c59529d7"
  },
  {
   "cell_type": "code",
   "execution_count": null,
   "outputs": [],
   "source": [
    "new=([25,150] - mean)/std\n",
    "plt.scatter(train_scale[:,0],train_scale[:,1])\n",
    "plt.scatter(new[0],new[1],marker='^')\n",
    "plt.show()"
   ],
   "metadata": {
    "collapsed": false
   },
   "id": "a02295a7d8412498"
  },
  {
   "cell_type": "code",
   "execution_count": null,
   "outputs": [],
   "source": [
    "kn.fit(train_scale,train_target)"
   ],
   "metadata": {
    "collapsed": false
   },
   "id": "924bf824c0425491"
  },
  {
   "cell_type": "code",
   "execution_count": null,
   "outputs": [],
   "source": [
    "test_scale=(test_input-mean)/std\n",
    "kn.score(test_scale,test_target)"
   ],
   "metadata": {
    "collapsed": false
   },
   "id": "808d813a8d2e324e"
  },
  {
   "cell_type": "code",
   "execution_count": null,
   "outputs": [],
   "source": [
    "kn.predict([new])"
   ],
   "metadata": {
    "collapsed": false
   },
   "id": "7aa88a006064f299"
  },
  {
   "cell_type": "code",
   "execution_count": null,
   "outputs": [],
   "source": [
    "distances, indexes = kn.kneighbors([new])\n",
    "plt.scatter(train_scale[:,0],train_scale[:,1])\n",
    "plt.scatter(new[0],new[1],marker='^')\n",
    "plt.scatter(train_scale[indexes,0], train_scale[indexes,1], marker=\"D\")\n",
    "plt.show()"
   ],
   "metadata": {
    "collapsed": false
   },
   "id": "f380ea2f118d2733"
  },
  {
   "cell_type": "code",
   "execution_count": null,
   "outputs": [],
   "source": [],
   "metadata": {
    "collapsed": false
   },
   "id": "d8aee1d09a641a40"
  }
 ],
 "metadata": {
  "kernelspec": {
   "display_name": "Python 3",
   "language": "python",
   "name": "python3"
  },
  "language_info": {
   "codemirror_mode": {
    "name": "ipython",
    "version": 2
   },
   "file_extension": ".py",
   "mimetype": "text/x-python",
   "name": "python",
   "nbconvert_exporter": "python",
   "pygments_lexer": "ipython2",
   "version": "2.7.6"
  }
 },
 "nbformat": 4,
 "nbformat_minor": 5
}
