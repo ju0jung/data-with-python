{
 "cells": [
  {
   "cell_type": "code",
   "execution_count": null,
   "id": "initial_id",
   "metadata": {
    "collapsed": true
   },
   "outputs": [],
   "source": [
    "import pandas as pd\n",
    "fish=pd.read_csv('https://bit.ly/fish_csv')\n",
    "fish.head()"
   ]
  },
  {
   "cell_type": "code",
   "execution_count": null,
   "outputs": [],
   "source": [
    "pd.unique(fish['Species'])"
   ],
   "metadata": {
    "collapsed": false
   },
   "id": "5b5b5b4dc5ba5a11"
  },
  {
   "cell_type": "code",
   "execution_count": null,
   "outputs": [],
   "source": [
    "fish_input=fish[['Weight','Length','Diagonal','Height','Width']].to_numpy()\n",
    "fish_input"
   ],
   "metadata": {
    "collapsed": false
   },
   "id": "18bfb1e3d4cc8190"
  },
  {
   "cell_type": "code",
   "execution_count": null,
   "outputs": [],
   "source": [
    "fish_target=fish['Species'].to_numpy()\n",
    "fish_target"
   ],
   "metadata": {
    "collapsed": false
   },
   "id": "b19e0f1b75c69228"
  },
  {
   "cell_type": "code",
   "execution_count": null,
   "outputs": [],
   "source": [
    "from sklearn.model_selection import train_test_split\n",
    "train_input, test_input, train_target, test_target=train_test_split(\n",
    "    fish_input, fish_target, random_state=42\n",
    ")"
   ],
   "metadata": {
    "collapsed": false
   },
   "id": "136a6ad60a7aed4"
  },
  {
   "cell_type": "code",
   "execution_count": null,
   "outputs": [],
   "source": [
    "from sklearn.preprocessing import StandardScaler\n",
    "ss=StandardScaler()\n",
    "ss.fit(train_input)\n",
    "train_scaled=ss.transform(train_input)\n",
    "test_scaled=ss.transform(test_input)"
   ],
   "metadata": {
    "collapsed": false
   },
   "id": "f6c5311a28d418ab"
  },
  {
   "cell_type": "code",
   "execution_count": null,
   "outputs": [],
   "source": [
    "from sklearn.neighbors import KNeighborsClassifier\n",
    "kn=KNeighborsClassifier(n_neighbors=3)\n",
    "kn.fit(train_scaled, train_target)\n",
    "print(kn.score(train_scaled,train_target))\n",
    "print(kn.score(test_scaled,test_target))"
   ],
   "metadata": {
    "collapsed": false
   },
   "id": "dcf9425fb6eecf6e"
  },
  {
   "cell_type": "code",
   "execution_count": null,
   "outputs": [],
   "source": [
    "kn.predict(test_scaled[:5])"
   ],
   "metadata": {
    "collapsed": false
   },
   "id": "5d5a7058caf01a6d"
  },
  {
   "cell_type": "code",
   "execution_count": null,
   "outputs": [],
   "source": [
    "import numpy as np\n",
    "proba=kn.predict_proba(test_scaled[:5])\n",
    "np.round(proba,decimals=4)"
   ],
   "metadata": {
    "collapsed": false
   },
   "id": "3fc4ed496f78bd4d"
  },
  {
   "cell_type": "code",
   "execution_count": null,
   "outputs": [],
   "source": [
    "distances,indexes=kn.kneighbors(test_scaled[3:4])\n",
    "train_target[indexes]"
   ],
   "metadata": {
    "collapsed": false
   },
   "id": "82e90af55dfec7ea"
  },
  {
   "cell_type": "code",
   "execution_count": null,
   "outputs": [],
   "source": [
    "import matplotlib.pyplot as plt\n",
    "z=np.arange(-5,5,0.1)\n",
    "phi=1/(1+np.exp(-z))\n",
    "plt.plot(z,phi)\n",
    "plt.show()"
   ],
   "metadata": {
    "collapsed": false
   },
   "id": "612599c8c830e552"
  },
  {
   "cell_type": "code",
   "execution_count": null,
   "outputs": [],
   "source": [
    "bream_smelt_indexes=(train_target == 'Bream') | (train_target == 'Smelt')\n",
    "train_bream_smelt=train_scaled[bream_smelt_indexes]\n",
    "target_bream_smelt=train_target[bream_smelt_indexes]"
   ],
   "metadata": {
    "collapsed": false
   },
   "id": "94cdd9ceb1a83fd3"
  },
  {
   "cell_type": "code",
   "execution_count": null,
   "outputs": [],
   "source": [
    "from sklearn.linear_model import LogisticRegression\n",
    "lr=LogisticRegression()\n",
    "lr.fit(train_bream_smelt,target_bream_smelt)"
   ],
   "metadata": {
    "collapsed": false
   },
   "id": "40d8b7852ffab216"
  },
  {
   "cell_type": "code",
   "execution_count": null,
   "outputs": [],
   "source": [
    "lr.predict(train_bream_smelt[:5])"
   ],
   "metadata": {
    "collapsed": false
   },
   "id": "e529a58c2c8aba2c"
  },
  {
   "cell_type": "code",
   "execution_count": null,
   "outputs": [],
   "source": [
    "lr.predict_proba(train_bream_smelt[:5])"
   ],
   "metadata": {
    "collapsed": false
   },
   "id": "83ddc42325f52651"
  },
  {
   "cell_type": "code",
   "execution_count": null,
   "outputs": [],
   "source": [
    "decisions=lr.decision_function(train_bream_smelt[:5])\n",
    "decisions"
   ],
   "metadata": {
    "collapsed": false
   },
   "id": "80862612bd9670d7"
  },
  {
   "cell_type": "code",
   "execution_count": null,
   "outputs": [],
   "source": [
    "from scipy.special import expit\n",
    "expit(decisions)"
   ],
   "metadata": {
    "collapsed": false
   },
   "id": "b164e6db9fc65511"
  },
  {
   "cell_type": "code",
   "execution_count": null,
   "outputs": [],
   "source": [
    "lr=LogisticRegression(C=20,max_iter=1000)\n",
    "lr.fit(train_scaled,train_target)\n",
    "print(lr.score(train_scaled,train_target))\n",
    "print(lr.score(test_scaled,test_target))"
   ],
   "metadata": {
    "collapsed": false
   },
   "id": "4a74007504124470"
  },
  {
   "cell_type": "code",
   "execution_count": null,
   "outputs": [],
   "source": [
    "lr.predict(test_scaled[:5])"
   ],
   "metadata": {
    "collapsed": false
   },
   "id": "8529cc4ed4c4a6c4"
  },
  {
   "cell_type": "code",
   "execution_count": null,
   "outputs": [],
   "source": [
    "proba=lr.predict_proba(test_scaled[:5])\n",
    "np.round(proba,decimals=3)"
   ],
   "metadata": {
    "collapsed": false
   },
   "id": "91fd4a5f56d31a55"
  },
  {
   "cell_type": "code",
   "execution_count": null,
   "outputs": [],
   "source": [
    "decision=lr.decision_function(test_scaled[:5])#z score\n",
    "np.round(decision,decimals=2)"
   ],
   "metadata": {
    "collapsed": false
   },
   "id": "ecf7b95f0034536c"
  },
  {
   "cell_type": "code",
   "execution_count": null,
   "outputs": [],
   "source": [
    "from scipy.special import softmax\n",
    "proba=softmax(decision,axis=1)\n",
    "np.round(proba,decimals=3)"
   ],
   "metadata": {
    "collapsed": false
   },
   "id": "f84cf9d110982d46"
  },
  {
   "cell_type": "code",
   "execution_count": null,
   "outputs": [],
   "source": [
    "fish=pd.read_csv('https://bit.ly/fish_csv')\n",
    "fish_input=fish[['Weight','Length','Diagonal','Height','Width']].to_numpy()\n",
    "fish_target=fish['Species'].to_numpy()"
   ],
   "metadata": {
    "collapsed": false
   },
   "id": "476216316bac47db"
  },
  {
   "cell_type": "code",
   "execution_count": null,
   "outputs": [],
   "source": [
    "from sklearn.model_selection import train_test_split\n",
    "train_input, test_input, train_target, test_target=train_test_split(\n",
    "    fish_input, fish_target, random_state=42\n",
    ")"
   ],
   "metadata": {
    "collapsed": false
   },
   "id": "9c5072bbddd0fb98"
  },
  {
   "cell_type": "code",
   "execution_count": null,
   "outputs": [],
   "source": [
    "from sklearn.preprocessing import StandardScaler\n",
    "ss=StandardScaler()\n",
    "ss.fit(train_input)\n",
    "train_scaled=ss.transform(train_input)\n",
    "test_scaled=ss.transform(test_input)"
   ],
   "metadata": {
    "collapsed": false
   },
   "id": "70b4d067adfb14aa"
  },
  {
   "cell_type": "code",
   "execution_count": null,
   "outputs": [],
   "source": [
    "from sklearn.linear_model import SGDClassifier\n",
    "sc=SGDClassifier(loss=\"log_loss\",max_iter=10,random_state=42)\n",
    "sc.fit(train_scaled,train_target)\n",
    "print(sc.score(train_scaled,train_target))\n",
    "print(sc.score(test_scaled,test_target))"
   ],
   "metadata": {
    "collapsed": false
   },
   "id": "53fb7f4e746b0fcd"
  },
  {
   "cell_type": "code",
   "execution_count": null,
   "outputs": [],
   "source": [
    "sc.partial_fit(train_scaled,train_target)\n",
    "print(sc.score(train_scaled,train_target))\n",
    "print(sc.score(test_scaled,test_target))"
   ],
   "metadata": {
    "collapsed": false
   },
   "id": "b3c21fe5d0ac4529"
  },
  {
   "cell_type": "code",
   "execution_count": null,
   "outputs": [],
   "source": [
    "sc=SGDClassifier(loss=\"log_loss\",random_state=42)\n",
    "train_score=[]\n",
    "test_score=[]\n",
    "classes=np.unique(train_target)\n",
    "for _ in range(0,300):\n",
    "  sc.partial_fit(train_scaled,train_target,classes=classes)\n",
    "  train_score.append(sc.score(train_scaled,train_target))\n",
    "  test_score.append(sc.score(test_scaled,test_target))"
   ],
   "metadata": {
    "collapsed": false
   },
   "id": "4e9e7f6acfc24c7b"
  },
  {
   "cell_type": "code",
   "execution_count": null,
   "outputs": [],
   "source": [
    "plt.plot(train_score)\n",
    "plt.plot(test_score)\n",
    "plt.show()"
   ],
   "metadata": {
    "collapsed": false
   },
   "id": "b9a005e852e3c1b5"
  },
  {
   "cell_type": "code",
   "execution_count": null,
   "outputs": [],
   "source": [
    "sc=SGDClassifier(loss=\"log_loss\",max_iter=100,tol=None,random_state=42)\n",
    "sc.fit(train_scaled,train_target)\n",
    "print(sc.score(train_scaled,train_target))\n",
    "print(sc.score(test_scaled,test_target))"
   ],
   "metadata": {
    "collapsed": false
   },
   "id": "6935520ffda0f539"
  }
 ],
 "metadata": {
  "kernelspec": {
   "display_name": "Python 3",
   "language": "python",
   "name": "python3"
  },
  "language_info": {
   "codemirror_mode": {
    "name": "ipython",
    "version": 2
   },
   "file_extension": ".py",
   "mimetype": "text/x-python",
   "name": "python",
   "nbconvert_exporter": "python",
   "pygments_lexer": "ipython2",
   "version": "2.7.6"
  }
 },
 "nbformat": 4,
 "nbformat_minor": 5
}
