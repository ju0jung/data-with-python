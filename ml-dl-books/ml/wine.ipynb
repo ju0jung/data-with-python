{
 "cells": [
  {
   "cell_type": "code",
   "execution_count": null,
   "id": "initial_id",
   "metadata": {
    "collapsed": true
   },
   "outputs": [],
   "source": [
    "import pandas as pd\n",
    "wine=pd.read_csv('https://bit.ly/wine-date')\n",
    "wine.head()"
   ]
  },
  {
   "cell_type": "code",
   "execution_count": null,
   "outputs": [],
   "source": [
    "data=wine[['alcohol','sugar','pH']].to_numpy()\n",
    "target=wine['class'].to_numpy()\n",
    "data"
   ],
   "metadata": {
    "collapsed": false
   },
   "id": "9515cb508a201da6"
  },
  {
   "cell_type": "code",
   "execution_count": null,
   "outputs": [],
   "source": [
    "from sklearn.model_selection import train_test_split\n",
    "train_input, test_input, train_target, test_target = train_test_split(data, target, test_size=0.2, random_state=42)"
   ],
   "metadata": {
    "collapsed": false
   },
   "id": "93dd3246b5c285b5"
  },
  {
   "cell_type": "code",
   "execution_count": null,
   "outputs": [],
   "source": [
    "from sklearn.preprocessing import StandardScaler\n",
    "ss=StandardScaler()\n",
    "ss.fit(train_input)\n",
    "train_scaled=ss.transform(train_input)\n",
    "test_scaled=ss.transform(test_input)\n",
    "test_scaled"
   ],
   "metadata": {
    "collapsed": false
   },
   "id": "b1dd90246536dd19"
  },
  {
   "cell_type": "code",
   "execution_count": null,
   "outputs": [],
   "source": [
    "from sklearn.linear_model import LogisticRegression\n",
    "lr=LogisticRegression()\n",
    "lr.fit(train_scaled,train_target)\n",
    "print(lr.score(train_scaled,train_target))\n",
    "print(lr.score(test_scaled,test_target))"
   ],
   "metadata": {
    "collapsed": false
   },
   "id": "1410da338b0b67aa"
  },
  {
   "cell_type": "code",
   "execution_count": null,
   "outputs": [],
   "source": [
    "from sklearn.tree import DecisionTreeClassifier\n",
    "dt=DecisionTreeClassifier(random_state=42)\n",
    "dt.fit(train_scaled,train_target)\n",
    "print(dt.score(train_scaled,train_target))\n",
    "print(dt.score(test_scaled,test_target))"
   ],
   "metadata": {
    "collapsed": false
   },
   "id": "abb0e36811f99639"
  },
  {
   "cell_type": "code",
   "execution_count": null,
   "outputs": [],
   "source": [
    "import matplotlib.pyplot as plt\n",
    "from sklearn.tree import plot_tree\n",
    "plt.figure(figsize=(10,7))\n",
    "plot_tree(dt)\n",
    "plt.show()"
   ],
   "metadata": {
    "collapsed": false
   },
   "id": "7182de86fe21e74d"
  },
  {
   "cell_type": "code",
   "execution_count": null,
   "outputs": [],
   "source": [
    "plot_tree(dt,max_depth=1,filled=True,feature_names=['alcohol','sugar','pH'])\n",
    "plt.show()"
   ],
   "metadata": {
    "collapsed": false
   },
   "id": "9f89a0c256021d04"
  },
  {
   "cell_type": "code",
   "execution_count": null,
   "outputs": [],
   "source": [
    "dt=DecisionTreeClassifier(max_depth=3, random_state=42)\n",
    "dt.fit(train_scaled,train_target)\n",
    "print(dt.score(train_scaled,train_target))\n",
    "print(dt.score(test_scaled,test_target))"
   ],
   "metadata": {
    "collapsed": false
   },
   "id": "13ef3f03027432b7"
  },
  {
   "cell_type": "code",
   "execution_count": null,
   "outputs": [],
   "source": [
    "plt.figure(figsize=(20,15))\n",
    "plot_tree(dt,filled=True,feature_names=['alcohol','sugar','pH'])\n",
    "plt.show()"
   ],
   "metadata": {
    "collapsed": false
   },
   "id": "4a46551eae551889"
  },
  {
   "cell_type": "code",
   "execution_count": null,
   "outputs": [],
   "source": [
    "dt=DecisionTreeClassifier(max_depth=3, random_state=42)\n",
    "dt.fit(train_input,train_target)\n",
    "print(dt.score(train_input,train_target))\n",
    "print(dt.score(test_input,test_target))"
   ],
   "metadata": {
    "collapsed": false
   },
   "id": "689337439c9c3fb"
  },
  {
   "cell_type": "code",
   "execution_count": null,
   "outputs": [],
   "source": [
    "plt.figure(figsize=(20,15))\n",
    "plot_tree(dt,filled=True,feature_names=['alcohol','sugar','pH'])\n",
    "plt.show()"
   ],
   "metadata": {
    "collapsed": false
   },
   "id": "e86f7647ca3809f1"
  },
  {
   "cell_type": "code",
   "execution_count": null,
   "outputs": [],
   "source": [
    "dt=DecisionTreeClassifier(min_impurity_decrease=0.0005, random_state=42)\n",
    "dt.fit(train_input,train_target)\n",
    "print(dt.score(train_input,train_target))\n",
    "print(dt.score(test_input,test_target))"
   ],
   "metadata": {
    "collapsed": false
   },
   "id": "d151f42a556751bb"
  },
  {
   "cell_type": "code",
   "execution_count": null,
   "outputs": [],
   "source": [
    "plt.figure(figsize=(20,15),dpi=300)\n",
    "plot_tree(dt,filled=True,feature_names=['alcohol','sugar','pH'])\n",
    "plt.show()"
   ],
   "metadata": {
    "collapsed": false
   },
   "id": "62dd4eb0a3f92e5c"
  },
  {
   "cell_type": "code",
   "execution_count": null,
   "outputs": [],
   "source": [
    "sub_input, val_input, sub_target, val_target = train_test_split(\n",
    "    train_input,train_target,test_size=0.2,random_state=42\n",
    ") "
   ],
   "metadata": {
    "collapsed": false
   },
   "id": "ce6b7b1a5240a901"
  },
  {
   "cell_type": "code",
   "execution_count": null,
   "outputs": [],
   "source": [
    "from sklearn.tree import DecisionTreeClassifier\n",
    "dt=DecisionTreeClassifier(random_state=42)\n",
    "dt.fit(sub_input,sub_target)\n",
    "print(dt.score(sub_input,sub_target))\n",
    "print(dt.score(val_input,val_target))\n"
   ],
   "metadata": {
    "collapsed": false
   },
   "id": "eaa87a5312e59822"
  },
  {
   "cell_type": "code",
   "execution_count": null,
   "outputs": [],
   "source": [
    "from sklearn.model_selection import cross_validate\n",
    "scores=cross_validate(dt, train_input,train_target)\n",
    "scores"
   ],
   "metadata": {
    "collapsed": false
   },
   "id": "d780d1499bb7fc15"
  },
  {
   "cell_type": "code",
   "execution_count": null,
   "outputs": [],
   "source": [
    "import numpy as np\n",
    "np.mean(scores['test_score'])"
   ],
   "metadata": {
    "collapsed": false
   },
   "id": "469f728c9197d2df"
  },
  {
   "cell_type": "code",
   "execution_count": null,
   "outputs": [],
   "source": [
    "from sklearn.model_selection import StratifiedKFold\n",
    "splitter=StratifiedKFold(n_splits=10,shuffle=True, random_state=42)\n",
    "scores=cross_validate(dt,train_input,train_target,cv=splitter)\n",
    "np.mean(scores['test_score'])"
   ],
   "metadata": {
    "collapsed": false
   },
   "id": "fc5581c0758bf394"
  },
  {
   "cell_type": "code",
   "execution_count": null,
   "outputs": [],
   "source": [
    "from sklearn.model_selection import GridSearchCV\n",
    "params={'min_impurity_decrease': [0.0001, 0.0002, 0.00003, 0.0004, 0.0005]}\n",
    "gs=GridSearchCV(DecisionTreeClassifier(random_state=42), params, n_jobs=-1)\n",
    "gs.fit(train_input,train_target)\n",
    "dt=gs.best_estimator_\n",
    "dt.score(train_input,train_target)"
   ],
   "metadata": {
    "collapsed": false
   },
   "id": "c0324f9a2a986efd"
  },
  {
   "cell_type": "code",
   "execution_count": null,
   "outputs": [],
   "source": [
    "gs.best_params_"
   ],
   "metadata": {
    "collapsed": false
   },
   "id": "e81fe68c33fc4abb"
  },
  {
   "cell_type": "code",
   "execution_count": null,
   "outputs": [],
   "source": [
    "gs.cv_results_['mean_test_score']\n",
    "gs.cv_results_['params']"
   ],
   "metadata": {
    "collapsed": false
   },
   "id": "f13aa9c7c51df82a"
  },
  {
   "cell_type": "code",
   "execution_count": null,
   "outputs": [],
   "source": [
    "best_idx=np.argmax(gs.cv_results_['mean_test_score'])\n",
    "gs.cv_results_['params'][best_idx]"
   ],
   "metadata": {
    "collapsed": false
   },
   "id": "33029d704cd621f1"
  },
  {
   "cell_type": "code",
   "execution_count": null,
   "outputs": [],
   "source": [
    "params={\n",
    "  'min_impurity_decrease':np.arange(0.0001,0.001,0.0001),\n",
    "  'max_depth':range(5,20,1),\n",
    "  'min_samples_split':range(2,100,10)\n",
    "}"
   ],
   "metadata": {
    "collapsed": false
   },
   "id": "704361056aff1661"
  },
  {
   "cell_type": "code",
   "execution_count": null,
   "outputs": [],
   "source": [
    "gs=GridSearchCV(DecisionTreeClassifier(random_state=42),params,n_jobs=-1)\n",
    "gs.fit(train_input,train_target)"
   ],
   "metadata": {
    "collapsed": false
   },
   "id": "c5bf677e75746989"
  },
  {
   "cell_type": "code",
   "execution_count": null,
   "outputs": [],
   "source": [
    "gs.best_params_"
   ],
   "metadata": {
    "collapsed": false
   },
   "id": "676b0554d65c27fc"
  },
  {
   "cell_type": "code",
   "execution_count": null,
   "outputs": [],
   "source": [
    "np.max(gs.cv_results_['mean_test_score'])"
   ],
   "metadata": {
    "collapsed": false
   },
   "id": "9c5aff11f1c9e36"
  },
  {
   "cell_type": "code",
   "execution_count": null,
   "outputs": [],
   "source": [
    "from scipy.stats import uniform, randint\n",
    "params={\n",
    "  'min_impurity_decrease':uniform(0.0001,0.001),\n",
    "  'max_depth':randint(20,50),\n",
    "  'min_samples_split':randint(2,25),\n",
    "  'min_samples_leaf':randint(1,25)\n",
    "}\n",
    "from sklearn.model_selection import RandomizedSearchCV\n",
    "gs=RandomizedSearchCV(DecisionTreeClassifier(random_state=42,splitter='random'),params,n_iter=100,n_jobs=-1,random_state=42)\n",
    "gs.fit(train_input,train_target)\n",
    "gs.best_params_"
   ],
   "metadata": {
    "collapsed": false
   },
   "id": "b982e739e4348a20"
  },
  {
   "cell_type": "code",
   "execution_count": null,
   "outputs": [],
   "source": [
    "import numpy as np\n",
    "np.max(gs.cv_results_['mean_test_score'])"
   ],
   "metadata": {
    "collapsed": false
   },
   "id": "4824d907f1f2db51"
  },
  {
   "cell_type": "code",
   "execution_count": null,
   "outputs": [],
   "source": [
    "dt=gs.best_estimator_\n",
    "dt.score(test_input,test_target)"
   ],
   "metadata": {
    "collapsed": false
   },
   "id": "35da7ab0b00f1b8d"
  },
  {
   "cell_type": "code",
   "execution_count": null,
   "outputs": [],
   "source": [
    "from sklearn.model_selection import cross_validate\n",
    "from sklearn.ensemble import RandomForestClassifier\n",
    "rf=RandomForestClassifier(n_jobs=-1,random_state=42)\n",
    "scores=cross_validate(rf, train_input,train_target,return_train_score=True, n_jobs=-1)\n",
    "print(np.mean(scores['train_score']), np.mean(scores['test_score']))"
   ],
   "metadata": {
    "collapsed": false
   },
   "id": "9509caad44234a4c"
  },
  {
   "cell_type": "code",
   "execution_count": null,
   "outputs": [],
   "source": [
    "rf.fit(train_input,train_target)\n",
    "rf.feature_importances_"
   ],
   "metadata": {
    "collapsed": false
   },
   "id": "7699e62bc9d23343"
  },
  {
   "cell_type": "code",
   "execution_count": null,
   "outputs": [],
   "source": [
    "rf=RandomForestClassifier(oob_score=True, n_jobs=-1,random_state=42)\n",
    "rf.fit(train_input,train_target)\n",
    "rf.oob_score_"
   ],
   "metadata": {
    "collapsed": false
   },
   "id": "e65e3f03efca9779"
  },
  {
   "cell_type": "code",
   "execution_count": null,
   "outputs": [],
   "source": [
    "from sklearn.ensemble import ExtraTreesClassifier\n",
    "et=ExtraTreesClassifier(n_jobs=-1,random_state=42)\n",
    "scores=cross_validate(et,train_input,train_target,return_train_score=True,n_jobs=-1)\n",
    "print(np.mean(scores['train_score']), np.mean(scores['test_score']))"
   ],
   "metadata": {
    "collapsed": false
   },
   "id": "be64430c5b808a5d"
  },
  {
   "cell_type": "code",
   "execution_count": null,
   "outputs": [],
   "source": [
    "et.fit(train_input,train_target)\n",
    "et.feature_importances_"
   ],
   "metadata": {
    "collapsed": false
   },
   "id": "b7e2b4eeedaccd29"
  },
  {
   "cell_type": "code",
   "execution_count": null,
   "outputs": [],
   "source": [
    "from sklearn.ensemble import GradientBoostingClassifier\n",
    "gb=GradientBoostingClassifier(random_state=42)\n",
    "scores=cross_validate(gb,train_input,train_target,return_train_score=True,n_jobs=-1)\n",
    "print(np.mean(scores['train_score']), np.mean(scores['test_score']))"
   ],
   "metadata": {
    "collapsed": false
   },
   "id": "c42721cf2a38fcb"
  },
  {
   "cell_type": "code",
   "execution_count": null,
   "outputs": [],
   "source": [
    "from sklearn.ensemble import GradientBoostingClassifier\n",
    "gb=GradientBoostingClassifier(n_estimators=500,learning_rate=0.2, random_state=42)\n",
    "scores=cross_validate(gb,train_input,train_target,return_train_score=True,n_jobs=-1)\n",
    "print(np.mean(scores['train_score']), np.mean(scores['test_score']))"
   ],
   "metadata": {
    "collapsed": false
   },
   "id": "859e3259fcf884f4"
  },
  {
   "cell_type": "code",
   "execution_count": null,
   "outputs": [],
   "source": [
    "gb.fit(train_input,train_target)\n",
    "gb.feature_importances_"
   ],
   "metadata": {
    "collapsed": false
   },
   "id": "9d43af7beca13417"
  },
  {
   "cell_type": "code",
   "execution_count": null,
   "outputs": [],
   "source": [
    "from sklearn.ensemble import HistGradientBoostingClassifier\n",
    "hgb=HistGradientBoostingClassifier(random_state=42)\n",
    "scores=cross_validate(hgb,train_input,train_target,return_train_score=True)\n",
    "print(np.mean(scores['train_score']), np.mean(scores['test_score']))"
   ],
   "metadata": {
    "collapsed": false
   },
   "id": "c04e4c462ef10e23"
  },
  {
   "cell_type": "code",
   "execution_count": null,
   "outputs": [],
   "source": [
    "hgb.fit(train_input,train_target)\n",
    "rf.feature_importances_"
   ],
   "metadata": {
    "collapsed": false
   },
   "id": "6c3d72faf7c3c955"
  },
  {
   "cell_type": "code",
   "execution_count": null,
   "outputs": [],
   "source": [
    "hgb.score(test_input,test_target)"
   ],
   "metadata": {
    "collapsed": false
   },
   "id": "7899071087feef0d"
  },
  {
   "cell_type": "code",
   "execution_count": null,
   "outputs": [],
   "source": [
    "from xgboost import XGBClassifier\n",
    "xgb=XGBClassifier(tree_method=\"hist\",random_state=42)\n",
    "scores=cross_validate(xgb,train_input,train_target,return_train_score=True)\n",
    "print(np.mean(scores['train_score']), np.mean(scores['test_score']))"
   ],
   "metadata": {
    "collapsed": false
   },
   "id": "e4029e536c9e70b8"
  },
  {
   "cell_type": "code",
   "execution_count": null,
   "outputs": [],
   "source": [
    "from lightgbm import LGBMClassifier\n",
    "lgb=LGBMClassifier(random_state=42)\n",
    "scores=cross_validate(lgb,train_input,train_target,return_train_score=True,n_jobs=-1)\n",
    "print(np.mean(scores['train_score']), np.mean(scores['test_score']))"
   ],
   "metadata": {
    "collapsed": false
   },
   "id": "4a4bf8cc0b7fb8be"
  },
  {
   "cell_type": "code",
   "execution_count": null,
   "outputs": [],
   "source": [],
   "metadata": {
    "collapsed": false
   },
   "id": "ac342927f2eb964c"
  }
 ],
 "metadata": {
  "kernelspec": {
   "display_name": "Python 3",
   "language": "python",
   "name": "python3"
  },
  "language_info": {
   "codemirror_mode": {
    "name": "ipython",
    "version": 2
   },
   "file_extension": ".py",
   "mimetype": "text/x-python",
   "name": "python",
   "nbconvert_exporter": "python",
   "pygments_lexer": "ipython2",
   "version": "2.7.6"
  }
 },
 "nbformat": 4,
 "nbformat_minor": 5
}
