{
 "cells": [
  {
   "cell_type": "code",
   "execution_count": null,
   "id": "initial_id",
   "metadata": {
    "collapsed": true
   },
   "outputs": [],
   "source": [
    "!wget https://bit.ly/fruits_300 -O fruit_300.npy"
   ]
  },
  {
   "cell_type": "code",
   "execution_count": null,
   "outputs": [],
   "source": [
    "import numpy as np\n",
    "import matplotlib.pyplot as plt\n",
    "fruits=np.load('fruit_300.npy')\n",
    "fruits.shape"
   ],
   "metadata": {
    "collapsed": false
   },
   "id": "247420c30223adc3"
  },
  {
   "cell_type": "code",
   "execution_count": null,
   "outputs": [],
   "source": [
    "fruits[0,0,:]"
   ],
   "metadata": {
    "collapsed": false
   },
   "id": "8be1838f0134d81"
  },
  {
   "cell_type": "code",
   "execution_count": null,
   "outputs": [],
   "source": [
    "plt.imshow(fruits[0],cmap='gray')\n",
    "plt.show()"
   ],
   "metadata": {
    "collapsed": false
   },
   "id": "8e520780d3e7c7d7"
  },
  {
   "cell_type": "code",
   "execution_count": null,
   "outputs": [],
   "source": [
    "plt.imshow(fruits[0],cmap='gray_r')\n",
    "plt.show()"
   ],
   "metadata": {
    "collapsed": false
   },
   "id": "97b00147b8649654"
  },
  {
   "cell_type": "code",
   "execution_count": null,
   "outputs": [],
   "source": [
    "fig,axs=plt.subplots(1,2)\n",
    "# print('fig',fig)\n",
    "# print('axs',axs)\n",
    "axs[0].imshow(fruits[200], cmap='gray')\n",
    "axs[1].imshow(fruits[100], cmap='gray')\n",
    "plt.show()"
   ],
   "metadata": {
    "collapsed": false
   },
   "id": "a1d56f75622499e1"
  },
  {
   "cell_type": "code",
   "execution_count": null,
   "outputs": [],
   "source": [
    "apple=fruits[0:100].reshape(-1,100*100)\n",
    "pineapple=fruits[100:200].reshape(-1,100*100)\n",
    "banana=fruits[200:300].reshape(-1,100*100)\n",
    "apple[0]"
   ],
   "metadata": {
    "collapsed": false
   },
   "id": "f28302e017526ade"
  },
  {
   "cell_type": "code",
   "execution_count": null,
   "outputs": [],
   "source": [
    "apple.mean(axis=1)"
   ],
   "metadata": {
    "collapsed": false
   },
   "id": "123e5a8317c4a05c"
  },
  {
   "cell_type": "code",
   "execution_count": null,
   "outputs": [],
   "source": [
    "plt.hist(np.mean(apple,axis=1),alpha=0.7)\n",
    "plt.hist(np.mean(pineapple,axis=1),alpha=0.7)\n",
    "plt.hist(np.mean(banana,axis=1),alpha=0.7)\n",
    "plt.legend(['apple','pineapple','banana'])\n",
    "plt.show()"
   ],
   "metadata": {
    "collapsed": false
   },
   "id": "23ce96e05c1716de"
  },
  {
   "cell_type": "code",
   "execution_count": null,
   "outputs": [],
   "source": [
    "fig,axs=plt.subplots(1,3,figsize=(20,5))\n",
    "axs[0].bar(range(10000), np.mean(apple,axis=0))\n",
    "axs[1].bar(range(10000), np.mean(pineapple,axis=0))\n",
    "axs[2].bar(range(10000), np.mean(banana,axis=0))\n",
    "plt.show()"
   ],
   "metadata": {
    "collapsed": false
   },
   "id": "9165e378b115cc56"
  },
  {
   "cell_type": "code",
   "execution_count": null,
   "outputs": [],
   "source": [
    "apple_mean=np.mean(apple,axis=0).reshape(100,100)\n",
    "pineapple_mean=np.mean(pineapple,axis=0).reshape(100,100)\n",
    "banana_mean=np.mean(banana,axis=0).reshape(100,100)\n",
    "fig,axs=plt.subplots(1,3,figsize=(20,5))\n",
    "axs[0].imshow(apple_mean,cmap='gray')\n",
    "axs[1].imshow(pineapple_mean,cmap='gray')\n",
    "axs[2].imshow(banana_mean,cmap='gray')\n",
    "plt.show()"
   ],
   "metadata": {
    "collapsed": false
   },
   "id": "c01986451fb7eef0"
  },
  {
   "cell_type": "code",
   "execution_count": null,
   "outputs": [],
   "source": [
    "abs_diff=np.abs(fruits-apple_mean)\n",
    "abs_mean=np.mean(abs_diff, axis=(1,2))\n",
    "abs_mean"
   ],
   "metadata": {
    "collapsed": false
   },
   "id": "f8ad0be97a7c20b5"
  },
  {
   "cell_type": "code",
   "execution_count": null,
   "outputs": [],
   "source": [
    "apple_index=np.argsort(abs_mean)[:100]\n",
    "fig,axs=plt.subplots(10,10,figsize=(10,10))\n",
    "for row in range(10):\n",
    "  for col in range(10):\n",
    "    axs[row, col].imshow(fruits[apple_index[row*10+col]], cmap='gray')\n",
    "    axs[row, col].axis('on')\n",
    "plt.show()"
   ],
   "metadata": {
    "collapsed": false
   },
   "id": "5ed904d564a3f110"
  },
  {
   "cell_type": "code",
   "execution_count": null,
   "outputs": [],
   "source": [
    "abs_diff2=np.abs(fruits-banana_mean)\n",
    "abs_mean2=np.mean(abs_diff2,axis=(1,2))\n",
    "banana_index=np.argsort(abs_mean2)[:100]\n",
    "fig2,axs2=plt.subplots(10,10,figsize=(10,10))\n",
    "for row in range(10):\n",
    "  for col in range(10):\n",
    "    axs2[row, col].imshow(fruits[banana_index[row*10+col]],cmap='gray')\n",
    "    axs2[row, col].axis('off')\n",
    "plt.show()"
   ],
   "metadata": {
    "collapsed": false
   },
   "id": "900641f4700c5830"
  },
  {
   "cell_type": "code",
   "execution_count": null,
   "outputs": [],
   "source": [
    "fruits_2d=fruits.reshape(-1,100*100)\n",
    "fruits_2d"
   ],
   "metadata": {
    "collapsed": false
   },
   "id": "4fcce8c99e3e7580"
  },
  {
   "cell_type": "code",
   "execution_count": null,
   "outputs": [],
   "source": [
    "from sklearn.cluster import KMeans\n",
    "km=KMeans(n_clusters=3,random_state=42)\n",
    "km.fit(fruits_2d)\n",
    "np.unique(km.labels_,return_counts=True)"
   ],
   "metadata": {
    "collapsed": false
   },
   "id": "b0217b021eee666f"
  },
  {
   "cell_type": "code",
   "execution_count": null,
   "outputs": [],
   "source": [
    "import matplotlib.pyplot as plt\n",
    "def draw_fruits(arr,ratio=1):\n",
    "  n=len(arr)\n",
    "  rows=int(np.ceil(n/10))\n",
    "  cols=n if rows<2 else 10\n",
    "  # https://groups.google.com/g/ml-dl-book-qna/c/_xLrD5QLZfo?pli=1\n",
    "  fig, axs = plt.subplots(rows,cols,figsize=(cols*ratio,rows*ratio),squeeze=False)\n",
    "  for row in range(rows):\n",
    "    for col in range(cols):\n",
    "      if row*10+col < n:\n",
    "        axs[row,col].imshow(arr[row*10+col],cmap='gray')\n",
    "      axs[row,col].axis('off')\n",
    "  plt.show()"
   ],
   "metadata": {
    "collapsed": false
   },
   "id": "63e08cb22e680c45"
  },
  {
   "cell_type": "code",
   "execution_count": null,
   "outputs": [],
   "source": [
    "draw_fruits(fruits[km.labels_==0])"
   ],
   "metadata": {
    "collapsed": false
   },
   "id": "b65eef3d7d602357"
  },
  {
   "cell_type": "code",
   "execution_count": null,
   "outputs": [],
   "source": [
    "draw_fruits(fruits[km.labels_==1])"
   ],
   "metadata": {
    "collapsed": false
   },
   "id": "168f3b6b3c2dfdee"
  },
  {
   "cell_type": "code",
   "execution_count": null,
   "outputs": [],
   "source": [
    "draw_fruits(fruits[km.labels_==2])"
   ],
   "metadata": {
    "collapsed": false
   },
   "id": "8fd1af96a6fac8a6"
  },
  {
   "cell_type": "code",
   "execution_count": null,
   "outputs": [],
   "source": [
    "draw_fruits(km.cluster_centers_.reshape(-1,100,100),ratio=3)"
   ],
   "metadata": {
    "collapsed": false
   },
   "id": "990f954b6a619b25"
  },
  {
   "cell_type": "code",
   "execution_count": null,
   "outputs": [],
   "source": [
    "fruits_2d[100:101]"
   ],
   "metadata": {
    "collapsed": false
   },
   "id": "159bd8a9174a4461"
  },
  {
   "cell_type": "code",
   "execution_count": null,
   "outputs": [],
   "source": [
    "km.transform(fruits_2d[100:101])"
   ],
   "metadata": {
    "collapsed": false
   },
   "id": "e7663095f919eded"
  },
  {
   "cell_type": "code",
   "execution_count": null,
   "outputs": [],
   "source": [
    "km.predict(fruits_2d[100:101])"
   ],
   "metadata": {
    "collapsed": false
   },
   "id": "385dbbf18b87a68b"
  },
  {
   "cell_type": "code",
   "execution_count": null,
   "outputs": [],
   "source": [
    "draw_fruits(fruits[100:101])"
   ],
   "metadata": {
    "collapsed": false
   },
   "id": "9edb43f159076901"
  },
  {
   "cell_type": "code",
   "execution_count": null,
   "outputs": [],
   "source": [
    "inertia=[]\n",
    "for k in range(2,7):\n",
    "  km=KMeans(n_clusters=k,random_state=42)\n",
    "  km.fit(fruits_2d)\n",
    "  inertia.append(km.inertia_)\n",
    "plt.plot(range(2,7),inertia)\n",
    "plt.show()"
   ],
   "metadata": {
    "collapsed": false
   },
   "id": "addda6ccb86d49"
  },
  {
   "cell_type": "code",
   "execution_count": null,
   "outputs": [],
   "source": [
    "from sklearn.decomposition import PCA\n",
    "pca=PCA(n_components=50)\n",
    "pca.fit(fruits_2d)\n",
    "pca.components_"
   ],
   "metadata": {
    "collapsed": false
   },
   "id": "8b8eb233ca4c19d4"
  },
  {
   "cell_type": "code",
   "execution_count": null,
   "outputs": [],
   "source": [
    "draw_fruits(pca.components_.reshape(-1,100,100))"
   ],
   "metadata": {
    "collapsed": false
   },
   "id": "d128e0b1a9b7a456"
  },
  {
   "cell_type": "code",
   "execution_count": null,
   "outputs": [],
   "source": [
    "fruits_pca=pca.transform(fruits_2d)\n",
    "fruits_pca.shape"
   ],
   "metadata": {
    "collapsed": false
   },
   "id": "657b9812f40cb202"
  },
  {
   "cell_type": "code",
   "execution_count": null,
   "outputs": [],
   "source": [
    "fruits_inverse=pca.inverse_transform(fruits_pca)\n",
    "fruits_reconstruct=fruits_inverse.reshape(-1,100,100)\n",
    "for start in [0,100,200]:\n",
    "  draw_fruits(fruits_reconstruct[start:start+100])"
   ],
   "metadata": {
    "collapsed": false
   },
   "id": "f81ab1d180968add"
  },
  {
   "cell_type": "code",
   "execution_count": null,
   "outputs": [],
   "source": [
    "np.sum(pca.explained_variance_ratio_)"
   ],
   "metadata": {
    "collapsed": false
   },
   "id": "d8dd10efd0b61c5b"
  },
  {
   "cell_type": "code",
   "execution_count": null,
   "outputs": [],
   "source": [
    "plt.plot(pca.explained_variance_ratio_)"
   ],
   "metadata": {
    "collapsed": false
   },
   "id": "c7f83214c10d1e8d"
  },
  {
   "cell_type": "code",
   "execution_count": null,
   "outputs": [],
   "source": [
    "from sklearn.linear_model import LogisticRegression\n",
    "lr=LogisticRegression()\n",
    "target=np.array([0]*100+[1]*100+[2]*100)"
   ],
   "metadata": {
    "collapsed": false
   },
   "id": "8f7c3eb97e4adaaa"
  },
  {
   "cell_type": "code",
   "execution_count": null,
   "outputs": [],
   "source": [
    "from sklearn.model_selection import cross_validate\n",
    "scores=cross_validate(lr,fruits_2d,target)\n",
    "print(np.mean(scores['test_score']))\n",
    "print(np.mean(scores['fit_time']))"
   ],
   "metadata": {
    "collapsed": false
   },
   "id": "37ddb8fee1836ee"
  },
  {
   "cell_type": "code",
   "execution_count": null,
   "outputs": [],
   "source": [
    "scores=cross_validate(lr,fruits_pca,target)\n",
    "print(np.mean(scores['test_score']))\n",
    "print(np.mean(scores['fit_time']))"
   ],
   "metadata": {
    "collapsed": false
   },
   "id": "4fa57e4f5568c8b6"
  },
  {
   "cell_type": "code",
   "execution_count": null,
   "outputs": [],
   "source": [
    "pca=PCA(n_components=0.5)\n",
    "pca.fit(fruits_2d)\n",
    "pca.n_components_"
   ],
   "metadata": {
    "collapsed": false
   },
   "id": "ae3dbcd2e6b4cf9"
  },
  {
   "cell_type": "code",
   "execution_count": null,
   "outputs": [],
   "source": [
    "fruits_pca=pca.transform(fruits_2d)\n",
    "scores=cross_validate(lr,fruits_pca,target)\n",
    "print(np.mean(scores['test_score']))\n",
    "print(np.mean(scores['fit_time']))"
   ],
   "metadata": {
    "collapsed": false
   },
   "id": "5970032fbfaa2a88"
  },
  {
   "cell_type": "code",
   "execution_count": null,
   "outputs": [],
   "source": [
    "from sklearn.cluster import KMeans\n",
    "km=KMeans(n_clusters=3,random_state=42)\n",
    "km.fit(fruits_pca)\n",
    "np.unique(km.labels_,return_counts=True)"
   ],
   "metadata": {
    "collapsed": false
   },
   "id": "ad4b626f8c295f63"
  },
  {
   "cell_type": "code",
   "execution_count": null,
   "outputs": [],
   "source": [
    "for label in range(0,3):\n",
    "  draw_fruits(fruits[km.labels_==label])"
   ],
   "metadata": {
    "collapsed": false
   },
   "id": "8facddf9b7ec3c7"
  },
  {
   "cell_type": "code",
   "execution_count": null,
   "outputs": [],
   "source": [
    "for label in range(0,3):\n",
    "  data=fruits_pca[km.labels_ == label]\n",
    "  plt.scatter(data[:,0],data[:,1])\n",
    "plt.legend(['pineapple','banana','apple'])\n",
    "plt.show()"
   ],
   "metadata": {
    "collapsed": false
   },
   "id": "aa8c6ddb44c4e175"
  },
  {
   "cell_type": "code",
   "execution_count": null,
   "outputs": [],
   "source": [
    "fruits_pca"
   ],
   "metadata": {
    "collapsed": false
   },
   "id": "43680a35a0058d66"
  },
  {
   "cell_type": "code",
   "execution_count": null,
   "outputs": [],
   "source": [],
   "metadata": {
    "collapsed": false
   },
   "id": "c34a511715f27693"
  }
 ],
 "metadata": {
  "kernelspec": {
   "display_name": "Python 3",
   "language": "python",
   "name": "python3"
  },
  "language_info": {
   "codemirror_mode": {
    "name": "ipython",
    "version": 2
   },
   "file_extension": ".py",
   "mimetype": "text/x-python",
   "name": "python",
   "nbconvert_exporter": "python",
   "pygments_lexer": "ipython2",
   "version": "2.7.6"
  }
 },
 "nbformat": 4,
 "nbformat_minor": 5
}
