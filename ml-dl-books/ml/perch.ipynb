{
 "cells": [
  {
   "cell_type": "code",
   "execution_count": null,
   "id": "initial_id",
   "metadata": {
    "collapsed": true
   },
   "outputs": [],
   "source": [
    "import numpy as np\n",
    "\n",
    "perch_length = np.array([8.4, 13.7, 15.0, 16.2, 17.4, 18.0, 18.7, 19.0, 19.6, 20.0, 21.0,\n",
    "                         21.0, 21.0, 21.3, 22.0, 22.0, 22.0, 22.0, 22.0, 22.5, 22.5, 22.7,\n",
    "                         23.0, 23.5, 24.0, 24.0, 24.6, 25.0, 25.6, 26.5, 27.3, 27.5, 27.5,\n",
    "                         27.5, 28.0, 28.7, 30.0, 32.8, 34.5, 35.0, 36.5, 36.0, 37.0, 37.0,\n",
    "                         39.0, 39.0, 39.0, 40.0, 40.0, 40.0, 40.0, 42.0, 43.0, 43.0, 43.5,\n",
    "                         44.0])\n",
    "perch_weight = np.array([5.9, 32.0, 40.0, 51.5, 70.0, 100.0, 78.0, 80.0, 85.0, 85.0, 110.0,\n",
    "                         115.0, 125.0, 130.0, 120.0, 120.0, 130.0, 135.0, 110.0, 130.0,\n",
    "                         150.0, 145.0, 150.0, 170.0, 225.0, 145.0, 188.0, 180.0, 197.0,\n",
    "                         218.0, 300.0, 260.0, 265.0, 250.0, 250.0, 300.0, 320.0, 514.0,\n",
    "                         556.0, 840.0, 685.0, 700.0, 700.0, 690.0, 900.0, 650.0, 820.0,\n",
    "                         850.0, 900.0, 1015.0, 820.0, 1100.0, 1000.0, 1100.0, 1000.0,\n",
    "                         1000.0])"
   ]
  },
  {
   "cell_type": "code",
   "execution_count": null,
   "outputs": [],
   "source": [
    "import matplotlib.pyplot as plt\n",
    "plt.scatter(perch_length, perch_weight)\n",
    "plt.show()"
   ],
   "metadata": {
    "collapsed": false
   },
   "id": "123cbd9ff50a5ceb"
  },
  {
   "cell_type": "code",
   "execution_count": null,
   "outputs": [],
   "source": [
    "from sklearn.model_selection import train_test_split\n",
    "train_input, test_input, train_target, test_target = train_test_split(perch_length,perch_weight,random_state=42)\n",
    "# print(train_input, train_target,test_input,test_target)\n",
    "train_input.shape"
   ],
   "metadata": {
    "collapsed": false
   },
   "id": "ca9963e6ff9f772f"
  },
  {
   "cell_type": "code",
   "execution_count": null,
   "outputs": [],
   "source": [
    "test_array=np.array([1,2,3,4])\n",
    "test_array=test_array.reshape(2,2)\n",
    "test_array"
   ],
   "metadata": {
    "collapsed": false
   },
   "id": "6856890eabda3625"
  },
  {
   "cell_type": "code",
   "execution_count": null,
   "outputs": [],
   "source": [
    "train_input=train_input.reshape(-1,1)\n",
    "test_input=test_input.reshape(-1,1)\n",
    "# train_target=train_target.reshape(-1,1)\n",
    "# test_target=test_target.reshape(-1,1)"
   ],
   "metadata": {
    "collapsed": false
   },
   "id": "8f5f2fd7ddf319fd"
  },
  {
   "cell_type": "code",
   "execution_count": null,
   "outputs": [],
   "source": [
    "from sklearn.neighbors import KNeighborsRegressor\n",
    "knr=KNeighborsRegressor()\n",
    "knr.fit(train_input, train_target)\n",
    "knr.score(test_input,test_target)"
   ],
   "metadata": {
    "collapsed": false
   },
   "id": "11ed220a0972c689"
  },
  {
   "cell_type": "code",
   "execution_count": null,
   "outputs": [],
   "source": [
    "from sklearn.metrics import mean_absolute_error\n",
    "\n",
    "test_prediction = knr.predict(test_input)\n",
    "mae = mean_absolute_error(test_target,test_prediction)\n",
    "mae"
   ],
   "metadata": {
    "collapsed": false
   },
   "id": "b2552fa1b3ef41a"
  },
  {
   "cell_type": "code",
   "execution_count": null,
   "outputs": [],
   "source": [
    "knr.n_neighbors=3\n",
    "knr.fit(train_input,train_target)\n",
    "knr.score(train_input,train_target)"
   ],
   "metadata": {
    "collapsed": false
   },
   "id": "8a01e168b354ff54"
  },
  {
   "cell_type": "code",
   "execution_count": null,
   "outputs": [],
   "source": [
    "knr.score(test_input,test_target)"
   ],
   "metadata": {
    "collapsed": false
   },
   "id": "206e20f23d878086"
  },
  {
   "cell_type": "code",
   "execution_count": null,
   "outputs": [],
   "source": [
    "knr_test=KNeighborsRegressor()\n",
    "x=np.arange(5,45).reshape(-1,1)\n",
    "for n in [1,5,10]:\n",
    "  knr_test.n_neighbors = n\n",
    "  knr_test.fit(train_input,train_target)\n",
    "  prediction = knr_test.predict(x)\n",
    "  plt.scatter(train_input,train_target)\n",
    "  plt.plot(x,prediction)\n",
    "  plt.show()\n"
   ],
   "metadata": {
    "collapsed": false
   },
   "id": "e36ac5bebc7547c"
  },
  {
   "cell_type": "code",
   "execution_count": null,
   "outputs": [],
   "source": [
    "x.shape\n",
    "prediction.shape"
   ],
   "metadata": {
    "collapsed": false
   },
   "id": "d786c3982cd10390"
  },
  {
   "cell_type": "code",
   "execution_count": null,
   "outputs": [],
   "source": [
    "knr.predict([[50]])"
   ],
   "metadata": {
    "collapsed": false
   },
   "id": "d096b8bf268ae392"
  },
  {
   "cell_type": "code",
   "execution_count": null,
   "outputs": [],
   "source": [
    "distance, indexes = knr.kneighbors([[50]])\n",
    "plt.scatter(train_input,train_target)\n",
    "plt.scatter(train_input[indexes], train_target[indexes], marker='D')\n",
    "plt.scatter(50,1033,marker='^')\n",
    "plt.show()"
   ],
   "metadata": {
    "collapsed": false
   },
   "id": "8fbb59ee5dc91a85"
  },
  {
   "cell_type": "code",
   "execution_count": null,
   "outputs": [],
   "source": [
    "np.mean(train_target[indexes])"
   ],
   "metadata": {
    "collapsed": false
   },
   "id": "cccf6c7c17dda737"
  },
  {
   "cell_type": "code",
   "execution_count": null,
   "outputs": [],
   "source": [
    "from sklearn.linear_model import LinearRegression\n",
    "\n",
    "lr=LinearRegression()\n",
    "lr.fit(train_input,train_target)\n",
    "lr.predict([[50]])"
   ],
   "metadata": {
    "collapsed": false
   },
   "id": "ac7dde6b24ecc311"
  },
  {
   "cell_type": "code",
   "execution_count": null,
   "outputs": [],
   "source": [
    "train_input.shape\n",
    "print(lr.coef_, lr.intercept_)\n"
   ],
   "metadata": {
    "collapsed": false
   },
   "id": "db3df2f01cdd3cbd"
  },
  {
   "cell_type": "code",
   "execution_count": null,
   "outputs": [],
   "source": [
    "\n",
    "# 훈련 세트의 산점도를 그립니다\n",
    "plt.scatter(train_input, train_target)\n",
    "# 15에서 50까지 1차 방정식 그래프를 그립니다\n",
    "dot= [15,50]\n",
    "equation= [15*lr.coef_[0]+lr.intercept_, 50*lr.coef_[0]+lr.intercept_]\n",
    "plt.plot(dot,equation)\n",
    "# 50cm 농어 데이터\n",
    "plt.scatter(50, 1241.8, marker='^')\n",
    "plt.xlabel('length')\n",
    "plt.ylabel('weight')\n",
    "plt.show()"
   ],
   "metadata": {
    "collapsed": false
   },
   "id": "c3936b5804e7388b"
  },
  {
   "cell_type": "code",
   "execution_count": null,
   "outputs": [],
   "source": [
    "print(lr.score(train_input,train_target))\n",
    "print(lr.score(test_input,test_target))"
   ],
   "metadata": {
    "collapsed": false
   },
   "id": "2ebf6eea8d4d2a76"
  },
  {
   "cell_type": "code",
   "execution_count": null,
   "outputs": [],
   "source": [
    "train_poly=np.column_stack((train_input**2, train_input))\n",
    "test_poly=np.column_stack((test_input**2, test_input))\n",
    "train_poly"
   ],
   "metadata": {
    "collapsed": false
   },
   "id": "f227a633a370a178"
  },
  {
   "cell_type": "code",
   "execution_count": null,
   "outputs": [],
   "source": [
    "lr.fit(train_poly,train_target)\n",
    "lr.predict([[50**2,50]])"
   ],
   "metadata": {
    "collapsed": false
   },
   "id": "f9c19e02ce0f6208"
  },
  {
   "cell_type": "code",
   "execution_count": null,
   "outputs": [],
   "source": [
    "lr.coef_"
   ],
   "metadata": {
    "collapsed": false
   },
   "id": "b7154253b84d566d"
  },
  {
   "cell_type": "code",
   "execution_count": null,
   "outputs": [],
   "source": [
    "point=np.arange(15,50)\n",
    "plt.scatter(train_input,train_target)\n",
    "plt.plot(point, lr.coef_[0]*point**2 +lr.coef_[1]*point+lr.intercept_)\n",
    "plt.scatter([50],[1574],marker=\"^\")\n",
    "plt.show()"
   ],
   "metadata": {
    "collapsed": false
   },
   "id": "fa30b81ed040427a"
  },
  {
   "cell_type": "code",
   "execution_count": null,
   "outputs": [],
   "source": [
    "lr.score(train_poly,train_target)"
   ],
   "metadata": {
    "collapsed": false
   },
   "id": "ad231e4df37de565"
  },
  {
   "cell_type": "code",
   "execution_count": null,
   "outputs": [],
   "source": [
    "lr.score(test_poly,test_target)"
   ],
   "metadata": {
    "collapsed": false
   },
   "id": "fe6ebe2992118613"
  },
  {
   "cell_type": "code",
   "execution_count": null,
   "outputs": [],
   "source": [
    "import pandas as pd\n",
    "df=pd.read_csv('https://bit.ly/perch_csv')\n",
    "perch_full = df.to_numpy()\n",
    "perch_full"
   ],
   "metadata": {
    "collapsed": false
   },
   "id": "a92d94522637b95c"
  },
  {
   "cell_type": "code",
   "execution_count": null,
   "outputs": [],
   "source": [
    "from sklearn.model_selection import train_test_split\n",
    "train_input,test_input,train_target,test_target=train_test_split(perch_full,perch_weight,random_state=42)"
   ],
   "metadata": {
    "collapsed": false
   },
   "id": "978300d2ba55d265"
  },
  {
   "cell_type": "code",
   "execution_count": null,
   "outputs": [],
   "source": [
    "from sklearn.preprocessing import PolynomialFeatures\n",
    "poly=PolynomialFeatures(include_bias=False)\n",
    "poly.fit([[2,3]])\n",
    "poly.transform([[2,3]])"
   ],
   "metadata": {
    "collapsed": false
   },
   "id": "36a2ce0f824d8c1a"
  },
  {
   "cell_type": "code",
   "execution_count": null,
   "outputs": [],
   "source": [
    "poly.fit(train_input)\n",
    "train_poly=poly.transform(train_input)\n",
    "train_poly"
   ],
   "metadata": {
    "collapsed": false
   },
   "id": "1336b5761dc29984"
  },
  {
   "cell_type": "code",
   "execution_count": null,
   "outputs": [],
   "source": [
    "poly.get_feature_names_out()"
   ],
   "metadata": {
    "collapsed": false
   },
   "id": "b3e94d0ae8da27ab"
  },
  {
   "cell_type": "code",
   "execution_count": null,
   "outputs": [],
   "source": [
    "test_poly=poly.transform(test_input)"
   ],
   "metadata": {
    "collapsed": false
   },
   "id": "9d4e4c0f98b89096"
  },
  {
   "cell_type": "code",
   "execution_count": null,
   "outputs": [],
   "source": [
    "from sklearn.linear_model import LinearRegression\n",
    "lr=LinearRegression()\n",
    "lr.fit(train_poly, train_target)\n",
    "lr.score(train_poly, train_target)"
   ],
   "metadata": {
    "collapsed": false
   },
   "id": "49598c40d45174cb"
  },
  {
   "cell_type": "code",
   "execution_count": null,
   "outputs": [],
   "source": [
    "lr.score(test_poly, test_target)"
   ],
   "metadata": {
    "collapsed": false
   },
   "id": "5bca89916cf368bf"
  },
  {
   "cell_type": "code",
   "execution_count": null,
   "outputs": [],
   "source": [
    "poly=PolynomialFeatures(degree=5, include_bias=False)\n",
    "poly.fit(train_input)\n",
    "train_poly=poly.transform(train_input)\n",
    "test_poly=poly.transform(test_input)\n",
    "train_poly"
   ],
   "metadata": {
    "collapsed": false
   },
   "id": "79548b4bdf0354e0"
  },
  {
   "cell_type": "code",
   "execution_count": null,
   "outputs": [],
   "source": [
    "lr.fit(train_poly,train_target)\n",
    "lr.score(train_poly,train_target)"
   ],
   "metadata": {
    "collapsed": false
   },
   "id": "56f65b69e073e9d9"
  },
  {
   "cell_type": "code",
   "execution_count": null,
   "outputs": [],
   "source": [
    "lr.score(test_poly,test_target)"
   ],
   "metadata": {
    "collapsed": false
   },
   "id": "819711a8aa724f8d"
  },
  {
   "cell_type": "code",
   "execution_count": null,
   "outputs": [],
   "source": [
    "from sklearn.preprocessing import StandardScaler\n",
    "ss=StandardScaler()\n",
    "ss.fit(train_poly)\n",
    "train_scaled=ss.transform(train_poly)\n",
    "test_scaled=ss.transform(test_poly)\n",
    "train_scaled"
   ],
   "metadata": {
    "collapsed": false
   },
   "id": "997d96d60d3a2c46"
  },
  {
   "cell_type": "code",
   "execution_count": null,
   "outputs": [],
   "source": [
    "from sklearn.linear_model import Ridge\n",
    "ridge=Ridge()\n",
    "ridge.fit(train_scaled,train_target)\n",
    "ridge.score(train_scaled,train_target)"
   ],
   "metadata": {
    "collapsed": false
   },
   "id": "7db59af92719e2e9"
  },
  {
   "cell_type": "code",
   "execution_count": null,
   "outputs": [],
   "source": [
    "ridge.score(test_scaled,test_target)"
   ],
   "metadata": {
    "collapsed": false
   },
   "id": "f98888105e74059c"
  },
  {
   "cell_type": "code",
   "execution_count": null,
   "outputs": [],
   "source": [
    "import matplotlib.pyplot as plt\n",
    "train_score=[]\n",
    "test_score=[]\n",
    "alpha_list=[0.001,0.01,0.1,1,10,100]\n",
    "for alpha in alpha_list:\n",
    "  ridge=Ridge(alpha=alpha)\n",
    "  ridge.fit(train_scaled,train_target)\n",
    "  train_score.append(ridge.score(train_scaled,train_target))\n",
    "  test_score.append(ridge.score(test_scaled,test_target))"
   ],
   "metadata": {
    "collapsed": false
   },
   "id": "f8ce576a2fd46e04"
  },
  {
   "cell_type": "code",
   "execution_count": null,
   "outputs": [],
   "source": [
    "plt.plot(np.log10(alpha_list),train_score)\n",
    "plt.plot(np.log10(alpha_list),test_score)\n",
    "plt.show()"
   ],
   "metadata": {
    "collapsed": false
   },
   "id": "f6038e6fff09d1b2"
  },
  {
   "cell_type": "code",
   "execution_count": null,
   "outputs": [],
   "source": [
    "ridge=Ridge(alpha=0.1)\n",
    "ridge.fit(train_scaled, train_target)\n",
    "print(ridge.score(train_scaled,train_target))\n",
    "print(ridge.score(test_scaled,test_target))"
   ],
   "metadata": {
    "collapsed": false
   },
   "id": "345c534188436ca6"
  },
  {
   "cell_type": "code",
   "execution_count": null,
   "outputs": [],
   "source": [
    "from sklearn.linear_model import Lasso\n",
    "lasso=Lasso()\n",
    "lasso.fit(train_scaled,train_target)\n",
    "lasso.score(train_scaled,train_target)"
   ],
   "metadata": {
    "collapsed": false
   },
   "id": "6533232b4be26222"
  },
  {
   "cell_type": "code",
   "execution_count": null,
   "outputs": [],
   "source": [
    "lasso.score(test_scaled,test_target)"
   ],
   "metadata": {
    "collapsed": false
   },
   "id": "299a18f10fbd6c23"
  },
  {
   "cell_type": "code",
   "execution_count": null,
   "outputs": [],
   "source": [
    "train_score=[]\n",
    "test_score=[]\n",
    "alpha_list=[0.001,0.01,0.1,1,10,100]\n",
    "for alpha in alpha_list:\n",
    "  lasso=Lasso(alpha=alpha, max_iter=10000)\n",
    "  lasso.fit(train_scaled,train_target)\n",
    "  train_score.append(lasso.score(train_scaled,train_target))\n",
    "  test_score.append(lasso.score(test_scaled,test_target))"
   ],
   "metadata": {
    "collapsed": false
   },
   "id": "edc55305b580cb3f"
  },
  {
   "cell_type": "code",
   "execution_count": null,
   "outputs": [],
   "source": [
    "plt.plot(np.log10(alpha_list),train_score)\n",
    "plt.plot(np.log10(alpha_list),test_score)\n",
    "plt.show()"
   ],
   "metadata": {
    "collapsed": false
   },
   "id": "6b8cf5da03ca648"
  },
  {
   "cell_type": "code",
   "execution_count": null,
   "outputs": [],
   "source": [
    "lasso=Lasso(alpha=10)\n",
    "lasso.fit(train_scaled,train_target)\n",
    "print(lasso.score(train_scaled,train_target))\n",
    "print(lasso.score(test_scaled,test_target))"
   ],
   "metadata": {
    "collapsed": false
   },
   "id": "2958f5cbaa0e5384"
  },
  {
   "cell_type": "code",
   "execution_count": null,
   "outputs": [],
   "source": [],
   "metadata": {
    "collapsed": false
   },
   "id": "c7956743b6ba02c5"
  }
 ],
 "metadata": {
  "kernelspec": {
   "display_name": "Python 3",
   "language": "python",
   "name": "python3"
  },
  "language_info": {
   "codemirror_mode": {
    "name": "ipython",
    "version": 2
   },
   "file_extension": ".py",
   "mimetype": "text/x-python",
   "name": "python",
   "nbconvert_exporter": "python",
   "pygments_lexer": "ipython2",
   "version": "2.7.6"
  }
 },
 "nbformat": 4,
 "nbformat_minor": 5
}
