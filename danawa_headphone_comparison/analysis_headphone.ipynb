{
 "cells": [
  {
   "cell_type": "code",
   "execution_count": null,
   "id": "initial_id",
   "metadata": {
    "collapsed": true
   },
   "outputs": [],
   "source": [
    "import pandas as pd\n",
    "danawa_data = pd.read_excel('./danawa_data_preprocessing.xlsx')\n",
    "danawa_data.head()"
   ]
  },
  {
   "cell_type": "code",
   "execution_count": null,
   "outputs": [],
   "source": [
    "top_list = danawa_data.sort_values(['play_time','bluetooth_version'],ascending=False)\n",
    "top_list"
   ],
   "metadata": {
    "collapsed": false
   },
   "id": "e6d6db0718e1b29b"
  },
  {
   "cell_type": "code",
   "execution_count": null,
   "outputs": [],
   "source": [
    "play_time_mean = danawa_data['play_time'].mean()\n",
    "weight_mean = danawa_data['weight'].mean()\n",
    "bluetooth_version_mean = danawa_data['bluetooth_version'].mean()\n",
    "price_mean = danawa_data['price'].mean()\n",
    "play_time_mean"
   ],
   "metadata": {
    "collapsed": false
   },
   "id": "7138a7e9dbaad03"
  },
  {
   "cell_type": "code",
   "execution_count": null,
   "outputs": [],
   "source": [
    "condition_data = danawa_data[\n",
    "  (danawa_data['price'] <= price_mean) &\n",
    "  (danawa_data['play_time'] >= play_time_mean) &\n",
    "  (danawa_data['weight'] <= weight_mean) &\n",
    "  (danawa_data['bluetooth_version'] >= bluetooth_version_mean)\n",
    "]\n",
    "condition_data"
   ],
   "metadata": {
    "collapsed": false
   },
   "id": "52a1abeb7c8f138b"
  },
  {
   "cell_type": "code",
   "execution_count": null,
   "outputs": [],
   "source": [
    "condition_data = danawa_data[\n",
    "  (danawa_data['price'] <= price_mean) &\n",
    "  (danawa_data['play_time'] >= play_time_mean)\n",
    "  ]\n",
    "condition_data"
   ],
   "metadata": {
    "collapsed": false
   },
   "id": "f7e608a015c9cf2c"
  },
  {
   "cell_type": "code",
   "execution_count": null,
   "outputs": [],
   "source": [
    "condition_data = danawa_data[\n",
    "  (danawa_data['price'] <= price_mean) &\n",
    "  (danawa_data['play_time'] >= play_time_mean) &\n",
    "  (danawa_data['bluetooth_version'] >= bluetooth_version_mean)\n",
    "  ]\n",
    "condition_data"
   ],
   "metadata": {
    "collapsed": false
   },
   "id": "e5c2d45e95b9bb3d"
  },
  {
   "cell_type": "code",
   "execution_count": null,
   "outputs": [],
   "source": [
    "from hangul_font import to_hangul_font\n",
    "import matplotlib.pyplot as plt\n",
    "import seaborn as sns\n",
    "\n",
    "to_hangul_font()"
   ],
   "metadata": {
    "collapsed": false
   },
   "id": "143fe5bbffb79f14"
  },
  {
   "cell_type": "code",
   "execution_count": null,
   "outputs": [],
   "source": [
    "chart_data = danawa_data.dropna(axis=0)\n",
    "len(chart_data)\n",
    "# chart_data['weight'] = chart_data.loc[:,'weight']/10\n",
    "chart_data.head()"
   ],
   "metadata": {
    "collapsed": false
   },
   "id": "7587e990b75fa06"
  },
  {
   "cell_type": "code",
   "execution_count": null,
   "outputs": [],
   "source": [
    "play_time_max = chart_data['play_time'].max()\n",
    "play_time_mean = chart_data['play_time'].mean()\n",
    "weight_max = chart_data['weight'].max()\n",
    "weight_mean = chart_data['weight'].mean()\n",
    "print(play_time_max,play_time_mean)\n",
    "print(weight_max,weight_mean)\n",
    "\n",
    "plt.figure(figsize=(30,10))\n",
    "plt.title(\"유무선 헤드폰 성능 차트(재생시간, 무게 기준)\")\n",
    "sns.scatterplot(x=\"play_time\",y=\"weight\",size=\"price\",hue=chart_data['company'], data=chart_data, sizes=(10,1000),legend=False)\n",
    "# plt.plot([0,play_time_max],\n",
    "#          [play_time_mean,play_time_mean],\n",
    "#          'r--',\n",
    "#          lw=1,\n",
    "#          label=\"10g(표시 값이 30이라면 실제 무게는 300g)\")\n",
    "# plt.plot([weight_mean,weight_mean],\n",
    "#          [0,weight_max],\n",
    "#          'b--',\n",
    "#          lw=1,\n",
    "#          label=\"시간\")\n",
    "plt.xlabel('재생시간')\n",
    "plt.ylabel('무게')\n",
    "plt.legend(loc=\"best\",ncol=2)\n",
    "plt.show()"
   ],
   "metadata": {
    "collapsed": false
   },
   "id": "1aa181b838b43c0d"
  },
  {
   "cell_type": "markdown",
   "source": [],
   "metadata": {
    "collapsed": false
   },
   "id": "88216acee9d78992"
  },
  {
   "cell_type": "code",
   "execution_count": null,
   "outputs": [],
   "source": [
    "condition_data = condition_data.dropna(axis=0)\n",
    "# condition_data['weight'] = condition_data.loc[:,'weight']\n",
    "top_10_condition_data = condition_data[:10]\n",
    "top_10_condition_data.head()"
   ],
   "metadata": {
    "collapsed": false
   },
   "id": "c8dff888e2acc71b"
  },
  {
   "cell_type": "code",
   "execution_count": null,
   "outputs": [],
   "source": [
    "\n",
    "play_time_max = top_10_condition_data['play_time'].max()\n",
    "play_time_mean = top_10_condition_data['play_time'].mean()\n",
    "weight_max = top_10_condition_data['weight'].max()\n",
    "weight_mean = top_10_condition_data['weight'].mean()\n",
    "\n",
    "print(play_time_mean,weight_mean)"
   ],
   "metadata": {
    "collapsed": false
   },
   "id": "49e719760ae44d4e"
  },
  {
   "cell_type": "code",
   "execution_count": null,
   "outputs": [],
   "source": [
    "plt.figure(figsize=(20,10))\n",
    "plt.title(\"유무선 헤드폰 가성비 Top10(재생시간, 무게, 블루투스 버전, 가격 기준)\")\n",
    "sns.scatterplot(x=\"play_time\",y=\"weight\",size=\"price\",hue=top_10_condition_data['company'],\n",
    "                data=top_10_condition_data,sizes=(100,2000), legend=True)\n",
    "\n",
    "for idx, row in top_10_condition_data.iterrows():\n",
    "  x=row['play_time']\n",
    "  y=row['weight']\n",
    "  s=row['product']\n",
    "  plt.text(x,y,s,size=10)\n",
    "  \n",
    "plt.xlabel('재생시간')\n",
    "plt.ylabel('무게')\n",
    "plt.legend(loc=\"best\",ncol=2)\n",
    "plt.show()"
   ],
   "metadata": {
    "collapsed": false
   },
   "id": "9a88a1e6f5f6afe0"
  },
  {
   "cell_type": "code",
   "execution_count": null,
   "outputs": [],
   "source": [],
   "metadata": {
    "collapsed": false
   },
   "id": "1738567c652c5fad"
  }
 ],
 "metadata": {
  "kernelspec": {
   "display_name": "Python 3",
   "language": "python",
   "name": "python3"
  },
  "language_info": {
   "codemirror_mode": {
    "name": "ipython",
    "version": 2
   },
   "file_extension": ".py",
   "mimetype": "text/x-python",
   "name": "python",
   "nbconvert_exporter": "python",
   "pygments_lexer": "ipython2",
   "version": "2.7.6"
  }
 },
 "nbformat": 4,
 "nbformat_minor": 5
}
