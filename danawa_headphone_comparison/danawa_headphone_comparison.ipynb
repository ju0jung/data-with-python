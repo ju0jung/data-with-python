{
 "cells": [
  {
   "cell_type": "code",
   "execution_count": null,
   "id": "initial_id",
   "metadata": {
    "collapsed": true
   },
   "outputs": [],
   "source": [
    "import time\n",
    "\n",
    "from selenium import webdriver\n",
    "from selenium.webdriver.chrome.service import Service\n",
    "from webdriver_manager.chrome import ChromeDriverManager\n",
    "from bs4 import BeautifulSoup\n",
    "\n",
    "browser = webdriver.Chrome(service=Service(ChromeDriverManager().install()))\n",
    "url=\"https://search.danawa.com/dsearch.php?query={}&checkedInfo=N&page={}&limit=40&sort=saveDESC&list=list&maxPrice=200000&tab=main\".format(\"블루투스 헤드폰\",1)\n",
    "browser.get(url=url)"
   ]
  },
  {
   "cell_type": "code",
   "execution_count": null,
   "outputs": [],
   "source": [
    "def get_page(query,page):\n",
    "  return \"https://search.danawa.com/dsearch.php?query={}&checkedInfo=N&page={}&limit=40&sort=saveDESC&list=list&tab=main\".format(query,page)"
   ],
   "metadata": {
    "collapsed": false
   },
   "id": "c66867f12f5decd9"
  },
  {
   "cell_type": "code",
   "execution_count": null,
   "outputs": [],
   "source": [
    "html = browser.page_source\n",
    "soup = BeautifulSoup(html,'html.parser')"
   ],
   "metadata": {
    "collapsed": false
   },
   "id": "2a4722e8516a5be9"
  },
  {
   "cell_type": "code",
   "execution_count": null,
   "outputs": [],
   "source": [
    "# prod_items=soup.select('div.main_prodlist > ul.product_list > li.prod_item > div.prod_main_info')\n",
    "# len(prod_items)"
   ],
   "metadata": {
    "collapsed": false
   },
   "id": "aa14413ed9f061f1"
  },
  {
   "cell_type": "code",
   "execution_count": null,
   "outputs": [],
   "source": [
    "# title = prod_items[0].select('p.prod_name > a')[0].text.strip()\n",
    "# print(title)"
   ],
   "metadata": {
    "collapsed": false
   },
   "id": "e716125861ab2aae"
  },
  {
   "cell_type": "code",
   "execution_count": null,
   "outputs": [],
   "source": [
    "# spec = prod_items[0].select('div.spec_list')[0].text.strip()\n",
    "# print(spec)"
   ],
   "metadata": {
    "collapsed": false
   },
   "id": "25b384ccbf373d9c"
  },
  {
   "cell_type": "code",
   "execution_count": null,
   "outputs": [],
   "source": [
    "# price = prod_items[0].select('li.rank_one > p.price_sect > a > strong')[0].text.strip().replace(\",\",\"\")\n",
    "# print(price)"
   ],
   "metadata": {
    "collapsed": false
   },
   "id": "31e3c7a60b57a1c0"
  },
  {
   "cell_type": "code",
   "execution_count": null,
   "outputs": [],
   "source": [
    "from tqdm import tqdm\n",
    "import time\n",
    "\n",
    "query=\"블루투스 헤드폰\"\n",
    "total_page=10\n",
    "data_list=[]\n",
    "for page in tqdm(range(1,total_page+1)):\n",
    "  url = get_page(query,page)\n",
    "  browser.get(url)\n",
    "  time.sleep(3)\n",
    "  \n",
    "  html = browser.page_source\n",
    "  soup=BeautifulSoup(html,'html.parser')\n",
    "  prod_items=soup.select('div.main_prodlist > ul.product_list > li.prod_item > div.prod_main_info')\n",
    "  for item in prod_items:\n",
    "    title = item.select('p.prod_name > a')[0].text.strip()\n",
    "    spec = item.select('div.spec_list')[0].text.strip()\n",
    "    price = item.select('li.rank_one > p.price_sect > a > strong')[0].text.strip().replace(\",\",\"\")\n",
    "    data_list.append([title,spec,price])\n",
    "  print(len(data_list))\n",
    "import pandas as pd\n",
    "data_df = pd.DataFrame(data_list)\n",
    "data_df.columns=['product_name','spec','price']\n",
    "data_df.to_excel('./danawa_crawling_result.xlsx',index=False)"
   ],
   "metadata": {
    "collapsed": false
   },
   "id": "19bcd344edc59659"
  },
  {
   "cell_type": "code",
   "execution_count": null,
   "outputs": [],
   "source": [
    "import pandas as pd\n",
    "\n",
    "data = pd.read_excel('./danawa_crawling_result.xlsx')\n",
    "data.info()\n",
    "data.head()"
   ],
   "metadata": {
    "collapsed": false
   },
   "id": "11f21b84dd4587da"
  },
  {
   "cell_type": "code",
   "execution_count": null,
   "outputs": [],
   "source": [
    "company_list=[]\n",
    "product_list=[]\n",
    "\n",
    "for title in data['product_name']:\n",
    "  splited = title.split(' ',1)\n",
    "  company_name= splited[0]\n",
    "  product_name = None\n",
    "  if len(splited) > 1:\n",
    "    product_name= splited[1]\n",
    "  company_list.append(company_name)\n",
    "  product_list.append(product_name)"
   ],
   "metadata": {
    "collapsed": false
   },
   "id": "c5b3b4a340fcfdd5"
  },
  {
   "cell_type": "code",
   "execution_count": null,
   "outputs": [],
   "source": [
    "spec_list = data['spec'][0].split('/')\n",
    "spec_list"
   ],
   "metadata": {
    "collapsed": false
   },
   "id": "e1d666bcb72f0ced"
  },
  {
   "cell_type": "code",
   "execution_count": null,
   "outputs": [],
   "source": [
    "for spec in spec_list:\n",
    "  if '재생시간' in spec:\n",
    "    play_time = spec\n",
    "  elif '무게' in spec:\n",
    "    weight = spec\n",
    "  elif '블루투스' in spec:\n",
    "    bluetooth_version = spec\n",
    "print(play_time, weight, bluetooth_version)"
   ],
   "metadata": {
    "collapsed": false
   },
   "id": "2d5c6dc3d46af09a"
  },
  {
   "cell_type": "code",
   "execution_count": null,
   "outputs": [],
   "source": [
    "play_time_number = play_time.split(' ')[1].strip()\n",
    "weight_number = weight.split(' ')[1].strip()\n",
    "bluetooth_version_number = bluetooth_version.split(' ')[1].strip()\n",
    "print(play_time_number, weight_number, bluetooth_version_number)"
   ],
   "metadata": {
    "collapsed": false
   },
   "id": "455e6203b9766769"
  },
  {
   "cell_type": "code",
   "execution_count": null,
   "outputs": [],
   "source": [
    "category_list=[]\n",
    "play_time_list=[]\n",
    "weight_list=[]\n",
    "bluetooth_version_list=[]\n",
    "for spec_str in data['spec']:\n",
    "  spec_list = spec_str.split('/')\n",
    "  category = spec_list[0]\n",
    "  category_list.append(category)\n",
    "  \n",
    "  play_time_number = None\n",
    "  weight_number = None\n",
    "  bluetooth_version_number = None\n",
    "  for spec in spec_list:\n",
    "    if '재생시간' in spec:\n",
    "      play_time_number = spec.split(' ')[1].strip()\n",
    "    elif '무게' in spec:\n",
    "      weight_number = spec.split(' ')[1].strip()\n",
    "    elif '블루투스' in spec:\n",
    "      if len(spec.split(' '))>1:\n",
    "        bluetooth_version_number = spec.split(' ')[1].strip()\n",
    "  play_time_list.append(play_time_number)    \n",
    "  weight_list.append(weight_number)    \n",
    "  bluetooth_version_list.append(bluetooth_version_number)  "
   ],
   "metadata": {
    "collapsed": false
   },
   "id": "657fe9a6882570bd"
  },
  {
   "cell_type": "code",
   "execution_count": null,
   "outputs": [],
   "source": [
    "play_time_list[0:5]\n",
    "weight_list[0:5]\n",
    "bluetooth_version_list[0:5]"
   ],
   "metadata": {
    "collapsed": false
   },
   "id": "1795fb4841c349aa"
  },
  {
   "cell_type": "code",
   "execution_count": null,
   "outputs": [],
   "source": [
    "import re\n",
    "def preprocess_play_time(time_str):\n",
    "  # print('time_str',time_str)\n",
    "  result = None\n",
    "  if time_str:\n",
    "    reg = re.compile('(\\d+)(?=시간)')\n",
    "    result = reg.search(time_str)\n",
    " \n",
    "    return result.group() if result else None\n",
    "  else:\n",
    "    return result\n",
    "\n",
    "print(preprocess_play_time('20-40시간(abc)'))\n",
    "print(preprocess_play_time('최대 11시간'))"
   ],
   "metadata": {
    "collapsed": false
   },
   "id": "62c514bea931a011"
  },
  {
   "cell_type": "code",
   "execution_count": null,
   "outputs": [],
   "source": [
    "preprocess_play_time_list=[]\n",
    "for time_str in play_time_list:\n",
    "  # print('time_str',time_str)\n",
    "    time = None\n",
    "    result = preprocess_play_time(time_str)\n",
    "    # print(result)\n",
    "    if result:\n",
    "      time = result\n",
    "    preprocess_play_time_list.append(time)\n",
    "  \n",
    "preprocess_play_time_list[0:10]"
   ],
   "metadata": {
    "collapsed": false
   },
   "id": "72cca4a9d755c356"
  },
  {
   "cell_type": "code",
   "execution_count": null,
   "outputs": [],
   "source": [
    "data_df = pd.DataFrame()\n",
    "data_df['category'] = category_list\n",
    "data_df['company'] = company_list\n",
    "data_df['product'] = product_list\n",
    "data_df['price'] = data['price']\n",
    "data_df['play_time']=preprocess_play_time_list\n",
    "data_df['weight']=weight_list\n",
    "data_df['bluetooth_version']=bluetooth_version_list\n",
    "data_df.head()"
   ],
   "metadata": {
    "collapsed": false
   },
   "id": "8b6c22028572c4bf"
  },
  {
   "cell_type": "code",
   "execution_count": null,
   "outputs": [],
   "source": [
    "data_df['category'].value_counts()"
   ],
   "metadata": {
    "collapsed": false
   },
   "id": "ec0b0a99f510d46d"
  },
  {
   "cell_type": "code",
   "execution_count": null,
   "outputs": [],
   "source": [
    "data_df_final=data_df[data_df['category'].isin(['유선헤드폰']) == False]\n",
    "len(data_df_final)"
   ],
   "metadata": {
    "collapsed": false
   },
   "id": "95d9c313df7c8b4"
  },
  {
   "cell_type": "code",
   "execution_count": null,
   "outputs": [],
   "source": [
    "data_df_final['price'].unique()"
   ],
   "metadata": {
    "collapsed": false
   },
   "id": "62423256d2b7bc5c"
  },
  {
   "cell_type": "code",
   "execution_count": null,
   "outputs": [],
   "source": [
    "data_df_final.to_excel('./danawa_data_preprocessing.xlsx', index=False)"
   ],
   "metadata": {
    "collapsed": false
   },
   "id": "244ff9fb30cbc6de"
  }
 ],
 "metadata": {
  "kernelspec": {
   "display_name": "Python 3",
   "language": "python",
   "name": "python3"
  },
  "language_info": {
   "codemirror_mode": {
    "name": "ipython",
    "version": 2
   },
   "file_extension": ".py",
   "mimetype": "text/x-python",
   "name": "python",
   "nbconvert_exporter": "python",
   "pygments_lexer": "ipython2",
   "version": "2.7.6"
  }
 },
 "nbformat": 4,
 "nbformat_minor": 5
}
