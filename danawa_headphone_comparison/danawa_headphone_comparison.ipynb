{
 "cells": [
  {
   "cell_type": "code",
   "execution_count": null,
   "id": "initial_id",
   "metadata": {
    "collapsed": true
   },
   "outputs": [],
   "source": [
    "import time\n",
    "\n",
    "from selenium import webdriver\n",
    "from selenium.webdriver.chrome.service import Service\n",
    "from webdriver_manager.chrome import ChromeDriverManager\n",
    "from bs4 import BeautifulSoup\n",
    "\n",
    "browser = webdriver.Chrome(service=Service(ChromeDriverManager().install()))\n",
    "url=\"https://search.danawa.com/dsearch.php?query={}&checkedInfo=N&page={}&limit=40&sort=saveDESC&list=list&maxPrice=200000&tab=main\".format(\"블루투스 헤드폰\",1)\n",
    "browser.get(url=url)"
   ]
  },
  {
   "cell_type": "code",
   "execution_count": null,
   "outputs": [],
   "source": [
    "def get_page(query,page):\n",
    "  return \"https://search.danawa.com/dsearch.php?query={}&checkedInfo=N&page={}&limit=40&sort=saveDESC&list=list&tab=main\".format(query,page)"
   ],
   "metadata": {
    "collapsed": false
   },
   "id": "c66867f12f5decd9"
  },
  {
   "cell_type": "code",
   "execution_count": null,
   "outputs": [],
   "source": [
    "html = browser.page_source\n",
    "soup = BeautifulSoup(html,'html.parser')"
   ],
   "metadata": {
    "collapsed": false
   },
   "id": "2a4722e8516a5be9"
  },
  {
   "cell_type": "code",
   "execution_count": null,
   "outputs": [],
   "source": [
    "# prod_items=soup.select('div.main_prodlist > ul.product_list > li.prod_item > div.prod_main_info')\n",
    "# len(prod_items)"
   ],
   "metadata": {
    "collapsed": false
   },
   "id": "aa14413ed9f061f1"
  },
  {
   "cell_type": "code",
   "execution_count": null,
   "outputs": [],
   "source": [
    "# title = prod_items[0].select('p.prod_name > a')[0].text.strip()\n",
    "# print(title)"
   ],
   "metadata": {
    "collapsed": false
   },
   "id": "e716125861ab2aae"
  },
  {
   "cell_type": "code",
   "execution_count": null,
   "outputs": [],
   "source": [
    "# spec = prod_items[0].select('div.spec_list')[0].text.strip()\n",
    "# print(spec)"
   ],
   "metadata": {
    "collapsed": false
   },
   "id": "25b384ccbf373d9c"
  },
  {
   "cell_type": "code",
   "execution_count": null,
   "outputs": [],
   "source": [
    "# price = prod_items[0].select('li.rank_one > p.price_sect > a > strong')[0].text.strip().replace(\",\",\"\")\n",
    "# print(price)"
   ],
   "metadata": {
    "collapsed": false
   },
   "id": "31e3c7a60b57a1c0"
  },
  {
   "cell_type": "code",
   "execution_count": null,
   "outputs": [],
   "source": [
    "from tqdm import tqdm\n",
    "import time\n",
    "\n",
    "query=\"블루투스 헤드폰\"\n",
    "total_page=10\n",
    "data_list=[]\n",
    "for page in tqdm(range(1,total_page+1)):\n",
    "  url = get_page(query,page)\n",
    "  browser.get(url)\n",
    "  time.sleep(3)\n",
    "  \n",
    "  html = browser.page_source\n",
    "  soup=BeautifulSoup(html,'html.parser')\n",
    "  prod_items=soup.select('div.main_prodlist > ul.product_list > li.prod_item > div.prod_main_info')\n",
    "  for item in prod_items:\n",
    "    title = item.select('p.prod_name > a')[0].text.strip()\n",
    "    spec = item.select('div.spec_list')[0].text.strip()\n",
    "    price = item.select('li.rank_one > p.price_sect > a > strong')[0].text.strip().replace(\",\",\"\")\n",
    "    data_list.append([title,spec,price])\n",
    "  print(len(data_list))\n",
    "import pandas as pd\n",
    "data_df = pd.DataFrame(data_list)\n",
    "data_df.columns=['product_name','spec','price']\n",
    "data_df.to_excel('./danawa_crawling_result.xlsx',index=False)"
   ],
   "metadata": {
    "collapsed": false
   },
   "id": "19bcd344edc59659"
  },
  {
   "cell_type": "code",
   "execution_count": 3,
   "outputs": [
    {
     "name": "stdout",
     "output_type": "stream",
     "text": [
      "<class 'pandas.core.frame.DataFrame'>\n",
      "RangeIndex: 400 entries, 0 to 399\n",
      "Data columns (total 3 columns):\n",
      " #   Column        Non-Null Count  Dtype \n",
      "---  ------        --------------  ----- \n",
      " 0   product_name  400 non-null    object\n",
      " 1   spec          400 non-null    object\n",
      " 2   price         400 non-null    int64 \n",
      "dtypes: int64(1), object(2)\n",
      "memory usage: 9.5+ KB\n"
     ]
    },
    {
     "data": {
      "text/plain": "               product_name  \\\n0           BOSE QC 울트라 헤드폰   \n1              APPLE 에어팟 맥스   \n2           SONY WH-1000XM5   \n3  SONY ULT WEAR WH-ULT900N   \n4   젠하이저 모멘텀 4 와이어리스 M4AEBT   \n\n                                                spec   price  \n0  유무선헤드폰/블루투스 v5.3/유선연결: 3.5mm/밀폐형/오버이어/음악+통화용/오...  459000  \n1  무선헤드폰/블루투스 v5.0/밀폐형/오버이어/음악+통화용/다이나믹드라이버/오디오코덱...  653070  \n2  유무선헤드폰/블루투스 v5.2/유선연결: 3.5mm/밀폐형/오버이어/음악+통화용/다...  397790  \n3  유무선헤드폰/블루투스 v5.2/유선연결: 3.5mm/밀폐형/오버이어/음악+통화용/다...  233050  \n4  유무선헤드폰/블루투스 v5.2/유선연결: 3.5mm/밀폐형/오버이어/음악+통화용/다...  383860  ",
      "text/html": "<div>\n<style scoped>\n    .dataframe tbody tr th:only-of-type {\n        vertical-align: middle;\n    }\n\n    .dataframe tbody tr th {\n        vertical-align: top;\n    }\n\n    .dataframe thead th {\n        text-align: right;\n    }\n</style>\n<table border=\"1\" class=\"dataframe\">\n  <thead>\n    <tr style=\"text-align: right;\">\n      <th></th>\n      <th>product_name</th>\n      <th>spec</th>\n      <th>price</th>\n    </tr>\n  </thead>\n  <tbody>\n    <tr>\n      <th>0</th>\n      <td>BOSE QC 울트라 헤드폰</td>\n      <td>유무선헤드폰/블루투스 v5.3/유선연결: 3.5mm/밀폐형/오버이어/음악+통화용/오...</td>\n      <td>459000</td>\n    </tr>\n    <tr>\n      <th>1</th>\n      <td>APPLE 에어팟 맥스</td>\n      <td>무선헤드폰/블루투스 v5.0/밀폐형/오버이어/음악+통화용/다이나믹드라이버/오디오코덱...</td>\n      <td>653070</td>\n    </tr>\n    <tr>\n      <th>2</th>\n      <td>SONY WH-1000XM5</td>\n      <td>유무선헤드폰/블루투스 v5.2/유선연결: 3.5mm/밀폐형/오버이어/음악+통화용/다...</td>\n      <td>397790</td>\n    </tr>\n    <tr>\n      <th>3</th>\n      <td>SONY ULT WEAR WH-ULT900N</td>\n      <td>유무선헤드폰/블루투스 v5.2/유선연결: 3.5mm/밀폐형/오버이어/음악+통화용/다...</td>\n      <td>233050</td>\n    </tr>\n    <tr>\n      <th>4</th>\n      <td>젠하이저 모멘텀 4 와이어리스 M4AEBT</td>\n      <td>유무선헤드폰/블루투스 v5.2/유선연결: 3.5mm/밀폐형/오버이어/음악+통화용/다...</td>\n      <td>383860</td>\n    </tr>\n  </tbody>\n</table>\n</div>"
     },
     "execution_count": 3,
     "metadata": {},
     "output_type": "execute_result"
    }
   ],
   "source": [
    "import pandas as pd\n",
    "\n",
    "data = pd.read_excel('./danawa_crawling_result.xlsx')\n",
    "data.info()\n",
    "data.head()"
   ],
   "metadata": {
    "collapsed": false,
    "ExecuteTime": {
     "end_time": "2024-08-01T11:25:44.438120Z",
     "start_time": "2024-08-01T11:25:44.398836Z"
    }
   },
   "id": "11f21b84dd4587da"
  },
  {
   "cell_type": "code",
   "execution_count": 4,
   "outputs": [],
   "source": [
    "company_list=[]\n",
    "product_list=[]\n",
    "\n",
    "for title in data['product_name']:\n",
    "  splited = title.split(' ',1)\n",
    "  company_name= splited[0]\n",
    "  product_name = None\n",
    "  if len(splited) > 1:\n",
    "    product_name= splited[1]\n",
    "  company_list.append(company_name)\n",
    "  product_list.append(product_name)"
   ],
   "metadata": {
    "collapsed": false,
    "ExecuteTime": {
     "end_time": "2024-08-01T11:25:49.706647Z",
     "start_time": "2024-08-01T11:25:49.702794Z"
    }
   },
   "id": "c5b3b4a340fcfdd5"
  },
  {
   "cell_type": "code",
   "execution_count": null,
   "outputs": [],
   "source": [
    "spec_list = data['spec'][0].split('/')\n",
    "spec_list"
   ],
   "metadata": {
    "collapsed": false
   },
   "id": "e1d666bcb72f0ced"
  },
  {
   "cell_type": "code",
   "execution_count": null,
   "outputs": [],
   "source": [
    "for spec in spec_list:\n",
    "  if '재생시간' in spec:\n",
    "    play_time = spec\n",
    "  elif '무게' in spec:\n",
    "    weight = spec\n",
    "  elif '블루투스' in spec:\n",
    "    bluetooth_version = spec\n",
    "print(play_time, weight, bluetooth_version)"
   ],
   "metadata": {
    "collapsed": false
   },
   "id": "2d5c6dc3d46af09a"
  },
  {
   "cell_type": "code",
   "execution_count": null,
   "outputs": [],
   "source": [
    "play_time_number = play_time.split(' ')[1].strip()\n",
    "weight_number = weight.split(' ')[1].strip()\n",
    "bluetooth_version_number = bluetooth_version.split(' ')[1].strip()\n",
    "print(play_time_number, weight_number, bluetooth_version_number)"
   ],
   "metadata": {
    "collapsed": false
   },
   "id": "455e6203b9766769"
  },
  {
   "cell_type": "code",
   "execution_count": 18,
   "outputs": [],
   "source": [
    "category_list=[]\n",
    "play_time_list=[]\n",
    "weight_list=[]\n",
    "bluetooth_version_list=[]\n",
    "for spec_str in data['spec']:\n",
    "  spec_list = spec_str.split('/')\n",
    "  category = spec_list[0]\n",
    "  category_list.append(category)\n",
    "  \n",
    "  play_time_number = None\n",
    "  weight_number = None\n",
    "  bluetooth_version_number = None\n",
    "  for spec in spec_list:\n",
    "    if '재생시간' in spec:\n",
    "      play_time_number = spec.split(' ')[1].strip()\n",
    "    elif '무게' in spec:\n",
    "      weight_number = spec.split(' ')[1].strip()\n",
    "    elif '블루투스' in spec:\n",
    "      if len(spec.split(' '))>1:\n",
    "        bluetooth_version_number = spec.split(' ')[1].strip()\n",
    "  play_time_list.append(play_time_number)    \n",
    "  weight_list.append(weight_number)    \n",
    "  bluetooth_version_list.append(bluetooth_version_number)  "
   ],
   "metadata": {
    "collapsed": false,
    "ExecuteTime": {
     "end_time": "2024-08-01T11:41:07.630028Z",
     "start_time": "2024-08-01T11:41:07.616345Z"
    }
   },
   "id": "657fe9a6882570bd"
  },
  {
   "cell_type": "code",
   "execution_count": 53,
   "outputs": [
    {
     "name": "stdout",
     "output_type": "stream",
     "text": [
      "['24시간', '20시간(ANC', '30시간(ANC', '30시간(ANC', '60시간(ANC']\n",
      "['252g', '384.8g', '250g', '255g', '293g']\n",
      "400\n"
     ]
    }
   ],
   "source": [
    "play_time_list[0:5]\n",
    "weight_list[0:5]\n",
    "bluetooth_version_list[0:5]"
   ],
   "metadata": {
    "collapsed": false,
    "ExecuteTime": {
     "end_time": "2024-08-01T12:21:00.154607Z",
     "start_time": "2024-08-01T12:21:00.134959Z"
    }
   },
   "id": "1795fb4841c349aa"
  },
  {
   "cell_type": "code",
   "execution_count": 56,
   "outputs": [
    {
     "name": "stdout",
     "output_type": "stream",
     "text": [
      "3\n"
     ]
    },
    {
     "data": {
      "text/plain": "[5.0, 5.0, 6.0]"
     },
     "execution_count": 56,
     "metadata": {},
     "output_type": "execute_result"
    }
   ],
   "source": [
    "import re\n",
    "def preprocess_play_time(time_str):\n",
    "  # print('time_str',time_str)\n",
    "  result = None\n",
    "  if time_str:\n",
    "    reg = re.compile('(\\d+)(?=시간)')\n",
    "    result = reg.search(time_str)\n",
    " \n",
    "    return result.group() if result else None\n",
    "  else:\n",
    "    return result\n",
    "\n",
    "print(preprocess_play_time('20-40시간(abc)'))\n",
    "print(preprocess_play_time('최대 11시간'))"
   ],
   "metadata": {
    "collapsed": false,
    "ExecuteTime": {
     "end_time": "2024-08-01T12:22:09.255116Z",
     "start_time": "2024-08-01T12:22:09.239541Z"
    }
   },
   "id": "62c514bea931a011"
  },
  {
   "cell_type": "code",
   "execution_count": 57,
   "outputs": [
    {
     "name": "stdout",
     "output_type": "stream",
     "text": [
      "400\n",
      "400\n",
      "400\n",
      "[24.0, 20.0, 30.0, 30.0, 60.0, 60.0, 30.0, 29.0, 30.0, 35.0]\n",
      "[252.0, 384.8, 250.0, 255.0, 293.0, 290.0, 320.0, 220.6, 254.0, 192.0]\n",
      "[5.3, 5.0, 5.2, 5.2, 5.2, 5.2, 5.2, 5.0, 5.0, 5.2]\n"
     ]
    }
   ],
   "source": [
    "preprocess_play_time_list=[]\n",
    "for time_str in play_time_list:\n",
    "  # print('time_str',time_str)\n",
    "    time = None\n",
    "    result = preprocess_play_time(time_str)\n",
    "    # print(result)\n",
    "    if result:\n",
    "      time = result\n",
    "    preprocess_play_time_list.append(time)\n",
    "  \n",
    "preprocess_play_time_list[0:10]"
   ],
   "metadata": {
    "collapsed": false,
    "ExecuteTime": {
     "end_time": "2024-08-01T12:22:12.829187Z",
     "start_time": "2024-08-01T12:22:12.816421Z"
    }
   },
   "id": "72cca4a9d755c356"
  },
  {
   "cell_type": "code",
   "execution_count": 58,
   "outputs": [
    {
     "data": {
      "text/plain": "  category company              product   price  play_time  weight  \\\n0   유무선헤드폰    BOSE           QC 울트라 헤드폰  459000       24.0   252.0   \n1    무선헤드폰   APPLE               에어팟 맥스  653070       20.0   384.8   \n2   유무선헤드폰    SONY           WH-1000XM5  397790       30.0   250.0   \n3   유무선헤드폰    SONY  ULT WEAR WH-ULT900N  233050       30.0   255.0   \n4   유무선헤드폰    젠하이저   모멘텀 4 와이어리스 M4AEBT  383860       60.0   293.0   \n\n   bluetooth_version  \n0                5.3  \n1                5.0  \n2                5.2  \n3                5.2  \n4                5.2  ",
      "text/html": "<div>\n<style scoped>\n    .dataframe tbody tr th:only-of-type {\n        vertical-align: middle;\n    }\n\n    .dataframe tbody tr th {\n        vertical-align: top;\n    }\n\n    .dataframe thead th {\n        text-align: right;\n    }\n</style>\n<table border=\"1\" class=\"dataframe\">\n  <thead>\n    <tr style=\"text-align: right;\">\n      <th></th>\n      <th>category</th>\n      <th>company</th>\n      <th>product</th>\n      <th>price</th>\n      <th>play_time</th>\n      <th>weight</th>\n      <th>bluetooth_version</th>\n    </tr>\n  </thead>\n  <tbody>\n    <tr>\n      <th>0</th>\n      <td>유무선헤드폰</td>\n      <td>BOSE</td>\n      <td>QC 울트라 헤드폰</td>\n      <td>459000</td>\n      <td>24.0</td>\n      <td>252.0</td>\n      <td>5.3</td>\n    </tr>\n    <tr>\n      <th>1</th>\n      <td>무선헤드폰</td>\n      <td>APPLE</td>\n      <td>에어팟 맥스</td>\n      <td>653070</td>\n      <td>20.0</td>\n      <td>384.8</td>\n      <td>5.0</td>\n    </tr>\n    <tr>\n      <th>2</th>\n      <td>유무선헤드폰</td>\n      <td>SONY</td>\n      <td>WH-1000XM5</td>\n      <td>397790</td>\n      <td>30.0</td>\n      <td>250.0</td>\n      <td>5.2</td>\n    </tr>\n    <tr>\n      <th>3</th>\n      <td>유무선헤드폰</td>\n      <td>SONY</td>\n      <td>ULT WEAR WH-ULT900N</td>\n      <td>233050</td>\n      <td>30.0</td>\n      <td>255.0</td>\n      <td>5.2</td>\n    </tr>\n    <tr>\n      <th>4</th>\n      <td>유무선헤드폰</td>\n      <td>젠하이저</td>\n      <td>모멘텀 4 와이어리스 M4AEBT</td>\n      <td>383860</td>\n      <td>60.0</td>\n      <td>293.0</td>\n      <td>5.2</td>\n    </tr>\n  </tbody>\n</table>\n</div>"
     },
     "execution_count": 58,
     "metadata": {},
     "output_type": "execute_result"
    }
   ],
   "source": [
    "data_df = pd.DataFrame()\n",
    "data_df['category'] = category_list\n",
    "data_df['company'] = company_list\n",
    "data_df['product'] = product_list\n",
    "data_df['price'] = data['price']\n",
    "data_df['play_time']=preprocess_play_time_list\n",
    "data_df['weight']=weight_list\n",
    "data_df['bluetooth_version']=bluetooth_version_list\n",
    "data_df.head()"
   ],
   "metadata": {
    "collapsed": false,
    "ExecuteTime": {
     "end_time": "2024-08-01T12:22:15.596098Z",
     "start_time": "2024-08-01T12:22:15.588607Z"
    }
   },
   "id": "8b6c22028572c4bf"
  },
  {
   "cell_type": "code",
   "execution_count": 44,
   "outputs": [
    {
     "name": "stdout",
     "output_type": "stream",
     "text": [
      "[252.0, 384.8, 250.0, 255.0, 293.0, 290.0, 320.0, 220.6, 254.0, 192.0]\n",
      "[5.3, 5.0, 5.2, 5.2, 5.2, 5.2, 5.2, 5.0, 5.0, 5.2]\n"
     ]
    }
   ],
   "source": [
    "data_df['category'].value_counts()"
   ],
   "metadata": {
    "collapsed": false,
    "ExecuteTime": {
     "end_time": "2024-08-01T12:08:22.411263Z",
     "start_time": "2024-08-01T12:08:22.393209Z"
    }
   },
   "id": "ec0b0a99f510d46d"
  },
  {
   "cell_type": "code",
   "execution_count": 59,
   "outputs": [
    {
     "data": {
      "text/plain": "398"
     },
     "execution_count": 59,
     "metadata": {},
     "output_type": "execute_result"
    }
   ],
   "source": [
    "data_df_final=data_df[data_df['category'].isin(['유선헤드폰']) == False]\n",
    "len(data_df_final)"
   ],
   "metadata": {
    "collapsed": false,
    "ExecuteTime": {
     "end_time": "2024-08-01T12:22:26.403984Z",
     "start_time": "2024-08-01T12:22:26.399672Z"
    }
   },
   "id": "95d9c313df7c8b4"
  },
  {
   "cell_type": "code",
   "execution_count": null,
   "outputs": [],
   "source": [
    "data_df_final['price'].unique()"
   ],
   "metadata": {
    "collapsed": false
   },
   "id": "62423256d2b7bc5c"
  },
  {
   "cell_type": "code",
   "execution_count": 60,
   "outputs": [],
   "source": [
    "data_df_final.to_excel('./danawa_data_preprocessing.xlsx', index=False)"
   ],
   "metadata": {
    "collapsed": false,
    "ExecuteTime": {
     "end_time": "2024-08-01T12:22:42.169914Z",
     "start_time": "2024-08-01T12:22:42.125048Z"
    }
   },
   "id": "244ff9fb30cbc6de"
  },
  {
   "cell_type": "code",
   "execution_count": 1,
   "outputs": [
    {
     "data": {
      "text/plain": "  category company              product   price  play_time  weight  \\\n0   유무선헤드폰    BOSE           QC 울트라 헤드폰  459000       24.0   252.0   \n1    무선헤드폰   APPLE               에어팟 맥스  653070       20.0   384.8   \n2   유무선헤드폰    SONY           WH-1000XM5  397790       30.0   250.0   \n3   유무선헤드폰    SONY  ULT WEAR WH-ULT900N  233050       30.0   255.0   \n4   유무선헤드폰    젠하이저   모멘텀 4 와이어리스 M4AEBT  383860       60.0   293.0   \n\n   bluetooth_version  \n0                5.3  \n1                5.0  \n2                5.2  \n3                5.2  \n4                5.2  ",
      "text/html": "<div>\n<style scoped>\n    .dataframe tbody tr th:only-of-type {\n        vertical-align: middle;\n    }\n\n    .dataframe tbody tr th {\n        vertical-align: top;\n    }\n\n    .dataframe thead th {\n        text-align: right;\n    }\n</style>\n<table border=\"1\" class=\"dataframe\">\n  <thead>\n    <tr style=\"text-align: right;\">\n      <th></th>\n      <th>category</th>\n      <th>company</th>\n      <th>product</th>\n      <th>price</th>\n      <th>play_time</th>\n      <th>weight</th>\n      <th>bluetooth_version</th>\n    </tr>\n  </thead>\n  <tbody>\n    <tr>\n      <th>0</th>\n      <td>유무선헤드폰</td>\n      <td>BOSE</td>\n      <td>QC 울트라 헤드폰</td>\n      <td>459000</td>\n      <td>24.0</td>\n      <td>252.0</td>\n      <td>5.3</td>\n    </tr>\n    <tr>\n      <th>1</th>\n      <td>무선헤드폰</td>\n      <td>APPLE</td>\n      <td>에어팟 맥스</td>\n      <td>653070</td>\n      <td>20.0</td>\n      <td>384.8</td>\n      <td>5.0</td>\n    </tr>\n    <tr>\n      <th>2</th>\n      <td>유무선헤드폰</td>\n      <td>SONY</td>\n      <td>WH-1000XM5</td>\n      <td>397790</td>\n      <td>30.0</td>\n      <td>250.0</td>\n      <td>5.2</td>\n    </tr>\n    <tr>\n      <th>3</th>\n      <td>유무선헤드폰</td>\n      <td>SONY</td>\n      <td>ULT WEAR WH-ULT900N</td>\n      <td>233050</td>\n      <td>30.0</td>\n      <td>255.0</td>\n      <td>5.2</td>\n    </tr>\n    <tr>\n      <th>4</th>\n      <td>유무선헤드폰</td>\n      <td>젠하이저</td>\n      <td>모멘텀 4 와이어리스 M4AEBT</td>\n      <td>383860</td>\n      <td>60.0</td>\n      <td>293.0</td>\n      <td>5.2</td>\n    </tr>\n  </tbody>\n</table>\n</div>"
     },
     "execution_count": 1,
     "metadata": {},
     "output_type": "execute_result"
    }
   ],
   "source": [
    "danawa_data = pd.read_excel('./danawa_data_preprocessing.xlsx')\n",
    "danawa_data.head()"
   ],
   "metadata": {
    "collapsed": false,
    "ExecuteTime": {
     "end_time": "2024-08-01T12:38:55.844875Z",
     "start_time": "2024-08-01T12:38:55.441700Z"
    }
   },
   "id": "c31fffb116219e2"
  },
  {
   "cell_type": "code",
   "execution_count": null,
   "outputs": [],
   "source": [
    "play_time_top_list = danawa_data.sort_values(['play_time'],ascending=False)\n",
    "play_time_top_list"
   ],
   "metadata": {
    "collapsed": false
   },
   "id": "4b78c5b2b989be3b"
  },
  {
   "cell_type": "code",
   "execution_count": null,
   "outputs": [],
   "source": [
    "weight_top_list = danawa_data.sort_values([\"weight\"],ascending=False)\n",
    "weight_top_list"
   ],
   "metadata": {
    "collapsed": false
   },
   "id": "549afc324df2dad7"
  },
  {
   "cell_type": "code",
   "execution_count": null,
   "outputs": [],
   "source": [
    "bluetooth_version_top_list = danawa_data.sort_values(['bluetooth_version'],ascending=False)\n",
    "bluetooth_version_top_list"
   ],
   "metadata": {
    "collapsed": false
   },
   "id": "47c601c088fbefe2"
  },
  {
   "cell_type": "code",
   "execution_count": 137,
   "outputs": [
    {
     "data": {
      "text/plain": "    category  company            product   price  play_time weight  \\\n257   유무선헤드폰    Picun                 F2   33800      100.0    NaN   \n35    유무선헤드폰       마샬            Major V  190000      100.0   186g   \n212    무선헤드폰    Britz    브리츠인터내셔널 W830BT  122980       95.0    NaN   \n335   유무선헤드폰     HOCO            W35 Max   19900       90.0   262g   \n29    유무선헤드폰      AKG          N9 HYBRID  389900       85.0   281g   \n..       ...      ...                ...     ...        ...    ...   \n325   유무선헤드폰       데논           AH-GC25W  170000        NaN    NaN   \n352   유무선헤드폰      몬스터       아이스포츠 BT 프리덤  354100        NaN   220g   \n374   유무선헤드폰  베이어다이나믹    AMIRON wireless  990000        NaN    NaN   \n389   유무선헤드폰   플랜트로닉스            백비트 505   56200        NaN   155g   \n396   유무선헤드폰      몬스터  Roc Sport Freedom  400720        NaN   220g   \n\n    bluetooth_version  \n257              v5.3  \n35                 LE  \n212              v4.1  \n335              v5.3  \n29               v5.3  \n..                ...  \n325               NaN  \n352               NaN  \n374               NaN  \n389               NaN  \n396               NaN  \n\n[398 rows x 7 columns]",
      "text/html": "<div>\n<style scoped>\n    .dataframe tbody tr th:only-of-type {\n        vertical-align: middle;\n    }\n\n    .dataframe tbody tr th {\n        vertical-align: top;\n    }\n\n    .dataframe thead th {\n        text-align: right;\n    }\n</style>\n<table border=\"1\" class=\"dataframe\">\n  <thead>\n    <tr style=\"text-align: right;\">\n      <th></th>\n      <th>category</th>\n      <th>company</th>\n      <th>product</th>\n      <th>price</th>\n      <th>play_time</th>\n      <th>weight</th>\n      <th>bluetooth_version</th>\n    </tr>\n  </thead>\n  <tbody>\n    <tr>\n      <th>257</th>\n      <td>유무선헤드폰</td>\n      <td>Picun</td>\n      <td>F2</td>\n      <td>33800</td>\n      <td>100.0</td>\n      <td>NaN</td>\n      <td>v5.3</td>\n    </tr>\n    <tr>\n      <th>35</th>\n      <td>유무선헤드폰</td>\n      <td>마샬</td>\n      <td>Major V</td>\n      <td>190000</td>\n      <td>100.0</td>\n      <td>186g</td>\n      <td>LE</td>\n    </tr>\n    <tr>\n      <th>212</th>\n      <td>무선헤드폰</td>\n      <td>Britz</td>\n      <td>브리츠인터내셔널 W830BT</td>\n      <td>122980</td>\n      <td>95.0</td>\n      <td>NaN</td>\n      <td>v4.1</td>\n    </tr>\n    <tr>\n      <th>335</th>\n      <td>유무선헤드폰</td>\n      <td>HOCO</td>\n      <td>W35 Max</td>\n      <td>19900</td>\n      <td>90.0</td>\n      <td>262g</td>\n      <td>v5.3</td>\n    </tr>\n    <tr>\n      <th>29</th>\n      <td>유무선헤드폰</td>\n      <td>AKG</td>\n      <td>N9 HYBRID</td>\n      <td>389900</td>\n      <td>85.0</td>\n      <td>281g</td>\n      <td>v5.3</td>\n    </tr>\n    <tr>\n      <th>...</th>\n      <td>...</td>\n      <td>...</td>\n      <td>...</td>\n      <td>...</td>\n      <td>...</td>\n      <td>...</td>\n      <td>...</td>\n    </tr>\n    <tr>\n      <th>325</th>\n      <td>유무선헤드폰</td>\n      <td>데논</td>\n      <td>AH-GC25W</td>\n      <td>170000</td>\n      <td>NaN</td>\n      <td>NaN</td>\n      <td>NaN</td>\n    </tr>\n    <tr>\n      <th>352</th>\n      <td>유무선헤드폰</td>\n      <td>몬스터</td>\n      <td>아이스포츠 BT 프리덤</td>\n      <td>354100</td>\n      <td>NaN</td>\n      <td>220g</td>\n      <td>NaN</td>\n    </tr>\n    <tr>\n      <th>374</th>\n      <td>유무선헤드폰</td>\n      <td>베이어다이나믹</td>\n      <td>AMIRON wireless</td>\n      <td>990000</td>\n      <td>NaN</td>\n      <td>NaN</td>\n      <td>NaN</td>\n    </tr>\n    <tr>\n      <th>389</th>\n      <td>유무선헤드폰</td>\n      <td>플랜트로닉스</td>\n      <td>백비트 505</td>\n      <td>56200</td>\n      <td>NaN</td>\n      <td>155g</td>\n      <td>NaN</td>\n    </tr>\n    <tr>\n      <th>396</th>\n      <td>유무선헤드폰</td>\n      <td>몬스터</td>\n      <td>Roc Sport Freedom</td>\n      <td>400720</td>\n      <td>NaN</td>\n      <td>220g</td>\n      <td>NaN</td>\n    </tr>\n  </tbody>\n</table>\n<p>398 rows × 7 columns</p>\n</div>"
     },
     "execution_count": 137,
     "metadata": {},
     "output_type": "execute_result"
    }
   ],
   "source": [
    "top_list = danawa_data.sort_values(['play_time','bluetooth_version'],ascending=False)\n",
    "top_list"
   ],
   "metadata": {
    "collapsed": false,
    "ExecuteTime": {
     "end_time": "2024-07-31T14:46:46.009962Z",
     "start_time": "2024-07-31T14:46:45.993248Z"
    }
   },
   "id": "d73b060497b7c78e"
  },
  {
   "cell_type": "code",
   "execution_count": 2,
   "outputs": [
    {
     "data": {
      "text/plain": "np.float64(28.509383378016086)"
     },
     "execution_count": 2,
     "metadata": {},
     "output_type": "execute_result"
    }
   ],
   "source": [],
   "metadata": {
    "collapsed": false,
    "ExecuteTime": {
     "end_time": "2024-08-01T12:39:00.956417Z",
     "start_time": "2024-08-01T12:39:00.934521Z"
    }
   },
   "id": "ccbb8c9ce6960ac9"
  }
 ],
 "metadata": {
  "kernelspec": {
   "display_name": "Python 3",
   "language": "python",
   "name": "python3"
  },
  "language_info": {
   "codemirror_mode": {
    "name": "ipython",
    "version": 2
   },
   "file_extension": ".py",
   "mimetype": "text/x-python",
   "name": "python",
   "nbconvert_exporter": "python",
   "pygments_lexer": "ipython2",
   "version": "2.7.6"
  }
 },
 "nbformat": 4,
 "nbformat_minor": 5
}
