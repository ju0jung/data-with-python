{
 "cells": [
  {
   "cell_type": "code",
   "execution_count": null,
   "id": "initial_id",
   "metadata": {
    "collapsed": true
   },
   "outputs": [],
   "source": [
    "import requests\n",
    "import pandas as pd\n",
    "import xmltodict\n",
    "import json\n",
    "import tqdm\n",
    "\n",
    "SEOUL_API_AUTH_KEY='****'\n",
    "result=[]\n",
    "# 장애인콜택시 이용 정보 공공데이터\n",
    "# https://data.seoul.go.kr/dataList/OA-15558/A/1/datasetView.do\n",
    "for dd in tqdm.tqdm_notebook(range(1,31)):\n",
    "  url='http://openapi.seoul.go.kr:8088/{}/xml/disabledCalltaxi/1/5/202406{}'.format(SEOUL_API_AUTH_KEY,str(dd).zfill(2))\n",
    "  response=requests.get(url)\n",
    "  xml_data = response.content\n",
    "  xml_dict=xmltodict.parse(xml_data)\n",
    "  json_str=json.dumps(xml_dict,ensure_ascii=False, indent=2)\n",
    "  json_data = json.loads(json_str)['openXMLSEOUL']['ROW']['list']['item']\n",
    "\n",
    "  for data in json_data:\n",
    "    print(data)\n",
    "    no = data['no']\n",
    "    cartype= data['cartype']\n",
    "    receipttime= data['receipttime']\n",
    "    settime= data['settime']\n",
    "    ridetime= data['ridetime']\n",
    "    startpos1= data['startpos1']\n",
    "    startpos2= data['startpos2']\n",
    "    endpos1= data['endpos1']\n",
    "    endpos2= data['endpos2']\n",
    "    result.append([no,cartype,receipttime,settime,ridetime,startpos1,startpos2,endpos1,endpos2])\n",
    "  disabled_call_taxi_df=pd.DataFrame(result)\n",
    "  disabled_call_taxi_df.columns=[\"차량고유번호\",\"차량타입\",\"예정일시\",\"배차일시\",\"승차일시\",\"출발지구군\",\"출발지상세\",\"목적지구군\",\"목적시상세\"]\n",
    "  disabled_call_taxi_df.to_excel('./disabled_call_taxi_202406.xlsx')"
   ]
  }
 ],
 "metadata": {
  "kernelspec": {
   "display_name": "Python 3",
   "language": "python",
   "name": "python3"
  },
  "language_info": {
   "codemirror_mode": {
    "name": "ipython",
    "version": 2
   },
   "file_extension": ".py",
   "mimetype": "text/x-python",
   "name": "python",
   "nbconvert_exporter": "python",
   "pygments_lexer": "ipython2",
   "version": "2.7.6"
  }
 },
 "nbformat": 4,
 "nbformat_minor": 5
}
