{
 "cells": [
  {
   "cell_type": "code",
   "execution_count": null,
   "id": "initial_id",
   "metadata": {
    "collapsed": true
   },
   "outputs": [],
   "source": [
    "import requests\n",
    "import pandas as pd\n",
    "import xmltodict\n",
    "import json\n",
    "import tqdm\n",
    "\n",
    "SEOUL_API_AUTH_KEY='****'\n",
    "result=[]\n",
    "# 장애인콜택시 이용 정보 공공데이터\n",
    "# https://data.seoul.go.kr/dataList/OA-15558/A/1/datasetView.do\n",
    "for dd in tqdm.tqdm_notebook(range(1,2)):\n",
    "  url='http://openapi.seoul.go.kr:8088/{}/xml/disabledCalltaxi/1/5/202406{}'.format(SEOUL_API_AUTH_KEY,str(dd).zfill(2))\n",
    "  response=requests.get(url)\n",
    "  xml_data = response.content\n",
    "  xml_dict=xmltodict.parse(xml_data)\n",
    "  json_str=json.dumps(xml_dict,ensure_ascii=False, indent=2)\n",
    "  json_data = json.loads(json_str)['openXMLSEOUL']['ROW']['list']['item']\n",
    "\n",
    "  disabled_call_taxi_df=pd.DataFrame(json_data)\n",
    "  disabled_call_taxi_df.columns=[\"차량고유번호\",\"차량타입\",\"예정일시\",\"배차일시\",\"승차일시\",\"출발지구군\",\"출발지상세\",\"목적지구군\",\"목적시상세\"]\n",
    "  disabled_call_taxi_df.to_excel('./disabled_call_taxi_202406.xlsx')"
   ]
  },
  {
   "cell_type": "code",
   "execution_count": null,
   "outputs": [],
   "source": [
    "import pandas as pd\n",
    "\n",
    "disabled_pop=pd.read_excel('./disabled_pop_2018.xlsx',header=1)\n",
    "disabled_pop.head()\n",
    "disabled_pop_df =pd.DataFrame(disabled_pop)\n",
    "disabled_pop_sum= disabled_pop_df.sum(numeric_only=True, axis=1)"
   ],
   "metadata": {
    "collapsed": false
   },
   "id": "c757235bee27c1d2"
  },
  {
   "cell_type": "code",
   "execution_count": null,
   "outputs": [],
   "source": [
    "result = pd.concat([disabled_pop_df.loc[:,['유형(등급)']],disabled_pop_sum], axis=1)\n",
    "result.columns=['si_gun_gu','total']\n",
    "result.to_excel('./disabled_pop_sum.xlsx',index=False)"
   ],
   "metadata": {
    "collapsed": false
   },
   "id": "cec7c6917acac73d"
  },
  {
   "cell_type": "code",
   "execution_count": null,
   "outputs": [],
   "source": [
    "#https://data.seoul.go.kr/dataList/18/S/2/datasetView.do\n",
    "disabled_state = pd.read_excel('./disabled_state.xlsx',header=3,usecols=[1,2])\n",
    "disabled_state.head()\n",
    "disabled_state_df=pd.DataFrame(disabled_state)\n",
    "disabled_state_df.columns=['si_gun_gu','total']\n",
    "disabled_state_df = disabled_state_df.drop(index=0,axis=0)\n",
    "disabled_state_df.to_excel('./disabled_state_2023_simple.xlsx',index=False)"
   ],
   "metadata": {
    "collapsed": false
   },
   "id": "6e957ce605567f6c"
  },
  {
   "cell_type": "code",
   "execution_count": null,
   "outputs": [],
   "source": [
    "disabled_call_taxi = pd.read_excel('./disabled_call_taxi_202406.xlsx')\n",
    "disabled_call_taxi_df = pd.DataFrame(disabled_call_taxi)\n",
    "disabled_call_taxi_start_sgg_cnt=disabled_call_taxi_df['출발지구군'].value_counts()\n",
    "disabled_call_taxi_start_sgg_cnt_df=pd.DataFrame(disabled_call_taxi_start_sgg_cnt)\n",
    "disabled_call_taxi_start_sgg_cnt_df.columns =['total']\n",
    "\n",
    "disabled_call_taxi_start_sgg_cnt_df.to_excel('./disabled_call_taxi_start_sgg_cnt.xlsx',index_label='si_gun_gu')"
   ],
   "metadata": {
    "collapsed": false
   },
   "id": "64f5eb8c8b499d94"
  },
  {
   "cell_type": "code",
   "execution_count": null,
   "outputs": [],
   "source": [
    "disabled_call_taxi_arrival_sgg_cnt=disabled_call_taxi_df['목적지구군'].value_counts()\n",
    "disabled_call_taxi_arrival_sgg_cnt_df=pd.DataFrame(disabled_call_taxi_arrival_sgg_cnt)\n",
    "disabled_call_taxi_arrival_sgg_cnt_df.columns =['total']\n",
    "\n",
    "disabled_call_taxi_arrival_sgg_cnt_df.to_excel('./disabled_call_taxi_arrival_sgg_cnt.xlsx',index_label='si_gun_gu')"
   ],
   "metadata": {
    "collapsed": false
   },
   "id": "1e465320555aa55e"
  },
  {
   "cell_type": "code",
   "execution_count": null,
   "outputs": [],
   "source": [
    "import pandas as pd\n",
    "seoul_sgg_list =pd.read_excel('./seoul_sgg_list.xlsx')\n",
    "seoul_sgg_list.columns=['code','si_gun_gu','lat','long']\n",
    "disabled_pop =pd.read_excel('./disabled_state_2023_simple.xlsx')\n",
    "disabled_pop.columns=['si_gun_gu','disabled_pop']\n",
    "seoul_sgg_disabled_pop = pd.merge(seoul_sgg_list,disabled_pop,how='left',on='si_gun_gu')\n",
    "seoul_sgg_disabled_pop.head()\n"
   ],
   "metadata": {
    "collapsed": false
   },
   "id": "1c520ed8e4712ff"
  },
  {
   "cell_type": "code",
   "execution_count": null,
   "outputs": [],
   "source": [
    "disabled_call_taxi_start_sgg_cnt = pd.read_excel('./disabled_call_taxi_start_sgg_cnt.xlsx')\n",
    "disabled_call_taxi_start_sgg_cnt.columns=['si_gun_gu','start_point']\n",
    "seoul_sgg_disabled_state = pd.merge(seoul_sgg_disabled_pop,disabled_call_taxi_start_sgg_cnt, how='left',on='si_gun_gu')\n",
    "seoul_sgg_disabled_state.head()"
   ],
   "metadata": {
    "collapsed": false
   },
   "id": "1f6c8b09918a745"
  },
  {
   "cell_type": "code",
   "execution_count": null,
   "outputs": [],
   "source": [
    "import pandas as pd\n",
    "\n",
    "disabled_call_taxi_arrival_sgg_cnt = pd.read_excel('./disabled_call_taxi_arrival_sgg_cnt.xlsx')\n",
    "\n",
    "disabled_call_taxi_arrival_sgg_cnt.columns=['si_gun_gu','arrival_point']\n",
    "seoul_sgg_disabled_state_total = pd.merge(seoul_sgg_disabled_state,disabled_call_taxi_arrival_sgg_cnt, how='left',on='si_gun_gu')\n",
    "seoul_sgg_disabled_state.head()\n",
    "\n",
    "seoul_sgg_disabled_state_total = pd.read_excel('./seoul_sgg_disabled_state_total.xlsx')\n",
    "for idx in seoul_sgg_disabled_state_total.index:\n",
    "  start = seoul_sgg_disabled_state_total.loc[idx,'start_point']\n",
    "  arrival = seoul_sgg_disabled_state_total.loc[idx,'arrival_point']\n",
    "  seoul_sgg_disabled_state_total.loc[idx,'point_sum'] = start + arrival\n",
    "seoul_sgg_disabled_state_total.head()\n",
    "seoul_sgg_disabled_state_total.to_excel('./seoul_sgg_disabled_state_total.xlsx',index=False)"
   ],
   "metadata": {
    "collapsed": false
   },
   "id": "137f000e09962db"
  },
  {
   "cell_type": "code",
   "execution_count": null,
   "outputs": [],
   "source": [
    "import folium\n",
    "from folium.features import DivIcon\n",
    "import json\n",
    "namsan=[37.55120584342893, 126.98346716392766]\n",
    "\n",
    "seoul_sgg_geo = json.load(open('seoul_sgg.geojson',encoding='utf-8'))\n",
    "seoul_disabled_taxi_use_bubble_map = folium.Map(\n",
    "    location=namsan,\n",
    "    tiles='CartoDB dark_matter',\n",
    "    zoom_start=11\n",
    ")\n",
    "def style_map(feature):\n",
    "  return {\n",
    "    'opacity':0.7,\n",
    "    'weight':1,\n",
    "    'color':'white',\n",
    "    'fillOpacity':0,\n",
    "    'dashArray':'5, 5'\n",
    "  }\n",
    "\n",
    "folium.GeoJson(\n",
    "    seoul_sgg_geo,\n",
    "    style_function=style_map,\n",
    ").add_to(seoul_disabled_taxi_use_bubble_map)\n",
    "\n",
    "def add_sigungu_name_marker(font_color,map):\n",
    "  for idx in seoul_sgg_disabled_state_total.index:\n",
    "    lat=seoul_sgg_disabled_state_total.loc[idx,'lat']\n",
    "    long=seoul_sgg_disabled_state_total.loc[idx,'long']\n",
    "    name=seoul_sgg_disabled_state_total.loc[idx,'si_gun_gu']\n",
    "    folium.map.Marker(\n",
    "        # 위/경도 위치\n",
    "        [lat, long],\n",
    "        icon=DivIcon(\n",
    "            # icon px 사이즈\n",
    "            icon_size=(0, 0),\n",
    "            # icon 좌 상단 위치 설정\n",
    "            icon_anchor=(0, 0),\n",
    "  \n",
    "            # html 형식으로 text 추가\n",
    "            # div 태그 안에 style 형식 추가\n",
    "            html='<div\\\n",
    "                      style=\"\\\n",
    "                          font-size: 1.2rem;\\\n",
    "                          color: black;\\\n",
    "                          background-color:rgba(255, 255, 255, 0.4);\\\n",
    "                          width:45px;\\\n",
    "                          text-align:center;\\\n",
    "                          margin:0 20px 0 0;\\\n",
    "                      \"><b>'\n",
    "                 + '<span style=\"color:'+font_color+'; margin: 0px;\">'+name+'</span>'\n",
    "                 + '</b></div>',\n",
    "        )).add_to(map)\n",
    "\n",
    "add_sigungu_name_marker('white',seoul_disabled_taxi_use_bubble_map)\n",
    "seoul_disabled_taxi_use_bubble_map"
   ],
   "metadata": {
    "collapsed": false
   },
   "id": "ba378f815ffb0dae"
  },
  {
   "cell_type": "code",
   "execution_count": null,
   "outputs": [],
   "source": [
    "taxi_use_total_mean =seoul_sgg_disabled_state_total['point_sum'].mean()\n",
    "for idx in seoul_sgg_disabled_state_total.index:\n",
    "  lat=seoul_sgg_disabled_state_total.loc[idx,'lat']\n",
    "  long=seoul_sgg_disabled_state_total.loc[idx,'long']\n",
    "  cnt=seoul_sgg_disabled_state_total.loc[idx,'point_sum']\n",
    "  \n",
    "  if cnt>taxi_use_total_mean:\n",
    "    fill_color=\"#FF0000\"\n",
    "  else:\n",
    "    fill_color=\"#00A3A5\"\n",
    "\n",
    "  folium.CircleMarker(\n",
    "      location=[lat, long],\n",
    "      color='#FFFF00',\n",
    "      fill_color=fill_color,\n",
    "      fill_opacity=0.7,\n",
    "      weight=1.5,\n",
    "      radius=cnt/50\n",
    "        ).add_to(seoul_disabled_taxi_use_bubble_map)\n",
    "\n",
    "# seoul_disabled_taxi_use_bubble_map\n",
    "seoul_disabled_taxi_use_bubble_map.save(outfile='./seoul_disabled_taxi_use_bubble_map_with_point_sum.html')"
   ],
   "metadata": {
    "collapsed": false
   },
   "id": "16efc4d4da4b7b"
  },
  {
   "cell_type": "code",
   "execution_count": null,
   "outputs": [],
   "source": [
    "taxi_use_total_mean =seoul_sgg_disabled_state_total['start_point'].mean()\n",
    "for idx in seoul_sgg_disabled_state_total.index:\n",
    "  lat=seoul_sgg_disabled_state_total.loc[idx,'lat']\n",
    "  long=seoul_sgg_disabled_state_total.loc[idx,'long']\n",
    "  cnt=seoul_sgg_disabled_state_total.loc[idx,'start_point']\n",
    "\n",
    "  if cnt>taxi_use_total_mean:\n",
    "    fill_color=\"#FF0000\"\n",
    "  else:\n",
    "    fill_color=\"#00A3A5\"\n",
    "\n",
    "  folium.CircleMarker(\n",
    "      location=[lat, long],\n",
    "      color='#FFFF00',\n",
    "      fill_color=fill_color,\n",
    "      fill_opacity=0.7,\n",
    "      weight=1.5,\n",
    "      radius=cnt/30\n",
    "  ).add_to(seoul_disabled_taxi_use_bubble_map)\n",
    "\n",
    "# seoul_disabled_taxi_use_bubble_map\n",
    "seoul_disabled_taxi_use_bubble_map.save(outfile='./seoul_disabled_taxi_use_bubble_map_with_start_point.html')"
   ],
   "metadata": {
    "collapsed": false
   },
   "id": "be26ab8818b5efa0"
  },
  {
   "cell_type": "code",
   "execution_count": null,
   "outputs": [],
   "source": [
    "taxi_use_total_mean =seoul_sgg_disabled_state_total['arrival_point'].mean()\n",
    "for idx in seoul_sgg_disabled_state_total.index:\n",
    "  lat=seoul_sgg_disabled_state_total.loc[idx,'lat']\n",
    "  long=seoul_sgg_disabled_state_total.loc[idx,'long']\n",
    "  cnt=seoul_sgg_disabled_state_total.loc[idx,'arrival_point']\n",
    "\n",
    "  if cnt>taxi_use_total_mean:\n",
    "    fill_color=\"#FF0000\"\n",
    "  else:\n",
    "    fill_color=\"#00A3A5\"\n",
    "\n",
    "  folium.CircleMarker(\n",
    "      location=[lat, long],\n",
    "      color='#FFFF00',\n",
    "      fill_color=fill_color,\n",
    "      fill_opacity=0.7,\n",
    "      weight=1.5,\n",
    "      radius=cnt/30\n",
    "  ).add_to(seoul_disabled_taxi_use_bubble_map)\n",
    "\n",
    "# seoul_disabled_taxi_use_bubble_map\n",
    "seoul_disabled_taxi_use_bubble_map.save(outfile='./seoul_disabled_taxi_use_bubble_map_with_arrival_point.html')"
   ],
   "metadata": {
    "collapsed": false
   },
   "id": "562544ec10a04679"
  },
  {
   "cell_type": "code",
   "execution_count": null,
   "outputs": [],
   "source": [
    "starbucks_choropleth_map=folium.Map(\n",
    "    location=namsan,\n",
    "    zoom_start=11\n",
    ")\n",
    "\n",
    "folium.Choropleth(\n",
    "    geo_data=seoul_sgg_geo,\n",
    "    data=seoul_sgg_disabled_state_total,\n",
    "    columns=['si_gun_gu','disabled_pop'],\n",
    "    fill_color='YlGnBu',\n",
    "    fill_opacity=0.6,\n",
    "    line_opacity=1,\n",
    "    key_on='properties.SIG_KOR_NM',\n",
    "    legend_name=\"시군구별 장애인구수\"\n",
    ").add_to(starbucks_choropleth_map)\n",
    "\n",
    "add_sigungu_name_marker('black',starbucks_choropleth_map)\n",
    "\n",
    "starbucks_choropleth_map.save('./seoul_sgg_disabled_state_population.html')"
   ],
   "metadata": {
    "collapsed": false
   },
   "id": "3214891c9493d9bd"
  },
  {
   "cell_type": "code",
   "execution_count": null,
   "outputs": [],
   "source": [
    "seoul_sgg_disabled_state_total['uses_per_100'] = seoul_sgg_disabled_state_total['point_sum']/(seoul_sgg_disabled_state_total['disabled_pop']/100)\n",
    "top_use_sigungu = seoul_sgg_disabled_state_total['uses_per_100'].quantile(0.9)\n",
    "\n",
    "for idx in seoul_sgg_disabled_state_total.index:\n",
    "  lat=seoul_sgg_disabled_state_total.loc[idx,'lat']\n",
    "  long=seoul_sgg_disabled_state_total.loc[idx,'long']\n",
    "  cnt=seoul_sgg_disabled_state_total.loc[idx,'uses_per_100']\n",
    "  \n",
    "  if cnt>top_use_sigungu:\n",
    "    fill_color=\"#fcba03\"\n",
    "  else:\n",
    "    fill_color=\"#03f0fc\"\n",
    "\n",
    "  folium.CircleMarker(\n",
    "      location=[lat, long],\n",
    "      color='#FFFF00',\n",
    "      fill_color=fill_color,\n",
    "      fill_opacity=0.7,\n",
    "      weight=1.5,\n",
    "      radius=cnt/30\n",
    "  ).add_to(seoul_disabled_taxi_use_bubble_map)\n",
    "\n",
    "# seoul_disabled_taxi_use_bubble_map\n",
    "seoul_disabled_taxi_use_bubble_map.save(outfile='./seoul_disabled_taxi_use_bubble_map_with_population_as_users.html')"
   ],
   "metadata": {
    "collapsed": false
   },
   "id": "1b6580952f2146d4"
  }
 ],
 "metadata": {
  "kernelspec": {
   "display_name": "Python 3",
   "language": "python",
   "name": "python3"
  },
  "language_info": {
   "codemirror_mode": {
    "name": "ipython",
    "version": 2
   },
   "file_extension": ".py",
   "mimetype": "text/x-python",
   "name": "python",
   "nbconvert_exporter": "python",
   "pygments_lexer": "ipython2",
   "version": "2.7.6"
  }
 },
 "nbformat": 4,
 "nbformat_minor": 5
}
